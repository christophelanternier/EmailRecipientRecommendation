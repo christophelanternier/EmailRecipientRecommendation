{
 "cells": [
  {
   "cell_type": "code",
   "execution_count": 1,
   "metadata": {
    "collapsed": true
   },
   "outputs": [],
   "source": [
    "import random\n",
    "from datetime import datetime, timedelta\n",
    "import io\n",
    "import numpy as np\n",
    "import heapq\n",
    "import json\n",
    "import operator\n",
    "import pandas as pd\n",
    "from collections import Counter\n",
    "from sklearn.feature_extraction.text import TfidfVectorizer\n",
    "from sklearn.metrics.pairwise import cosine_similarity\n",
    "from stop_words import get_stop_words\n",
    "import json\n",
    "\n",
    "import numpy.random as nprnd\n",
    "\n",
    "stop_words = get_stop_words('english')\n"
   ]
  },
  {
   "cell_type": "code",
   "execution_count": 2,
   "metadata": {
    "collapsed": false
   },
   "outputs": [],
   "source": [
    "path_to_data = '../data/'\n",
    "\n",
    "##########################\n",
    "# load files #                           \n",
    "##########################\n",
    "\n",
    "training = pd.read_csv(path_to_data + 'training_set.csv', sep=',', header=0)\n",
    "#training_info = pd.read_csv(path_to_data + 'training_info.csv', sep=',', header=0)\n",
    "training_info = pd.read_csv(path_to_data+\"training_info2.csv\",sep=',', header=0, index_col=0)\n",
    "test = pd.read_csv(path_to_data + 'test_set.csv', sep=',', header=0)\n",
    "#test_info = pd.read_csv(path_to_data + 'test_info.csv', sep=',', header=0)\n",
    "test_info = pd.read_csv(path_to_data+\"test_info2.csv\",sep=',', header=0, index_col=0)\n",
    "\n",
    "global sent_to\n",
    "with io.open('../data/sent_to.json') as json_data:\n",
    "    sent_to = json.load(json_data)\n",
    "\n",
    "global received_from\n",
    "with io.open('../data/received_from.json') as json_data:\n",
    "    received_from = json.load(json_data)"
   ]
  },
  {
   "cell_type": "code",
   "execution_count": 3,
   "metadata": {
    "collapsed": false
   },
   "outputs": [
    {
     "name": "stderr",
     "output_type": "stream",
     "text": [
      "/home/marc/anaconda2/lib/python2.7/site-packages/ipykernel/__main__.py:6: FutureWarning: sort(columns=....) is deprecated, use sort_values(by=.....)\n",
      "/home/marc/anaconda2/lib/python2.7/site-packages/ipykernel/__main__.py:13: FutureWarning: sort(columns=....) is deprecated, use sort_values(by=.....)\n"
     ]
    }
   ],
   "source": [
    "# Correct dates and put datetime format\n",
    "# We do that because we noticed test_set is only composed of email posterior to the ones of train_set. \n",
    "# Datetime format allows to simulate posteriority in our train/test split\n",
    "from datetime import datetime\n",
    "\n",
    "for row in training_info.sort(['date']).iterrows():\n",
    "    date = row[1]['date']\n",
    "    if date[:3] == '000':\n",
    "        date = '2' + date[1:]\n",
    "        \n",
    "    training_info.loc[row[0], 'date'] = datetime.strptime(date, '%Y-%m-%d %H:%M:%S')\n",
    "\n",
    "for row in test_info.sort(['date']).iterrows():\n",
    "    date = row[1]['date']\n",
    "        \n",
    "    test_info.loc[row[0], 'date'] = datetime.strptime(date, '%Y-%m-%d %H:%M:%S')"
   ]
  },
  {
   "cell_type": "markdown",
   "metadata": {},
   "source": [
    "### Functions"
   ]
  },
  {
   "cell_type": "code",
   "execution_count": 18,
   "metadata": {
    "collapsed": true
   },
   "outputs": [],
   "source": [
    "def most_similar_sklearn(array_embedding_sparse, mail_tfidf, n):\n",
    "    \n",
    "    similarities = cosine_similarity(array_embedding_sparse, mail_tfidf)\n",
    "    if int(round(sorted(similarities[:,0], reverse=True)[0])) ==1:\n",
    "        closest_ids = similarities[:,0].argsort()[::-1][1:]\n",
    "    else:\n",
    "        closest_ids = similarities[:,0].argsort()[::-1]\n",
    "    \n",
    "    return closest_ids[:n], similarities\n",
    "\n",
    "def get_sender(query_mid, training):\n",
    "    for row in training.iterrows():\n",
    "        mids = row[1]['mids'].split()\n",
    "        for mid in mids:\n",
    "            if int(mid) == query_mid:\n",
    "                sender = row[1]['sender']\n",
    "                break\n",
    "    return sender\n",
    "\n",
    "\n",
    "def get_10_recipients(closest_ids_per_sender, training_info, similarities):\n",
    "    dic_of_recipients = {}\n",
    "    #weight = len(closest_ids_per_sender)+1\n",
    "    for idx in closest_ids_per_sender:\n",
    "        recipients = training_info.loc[idx,'recipients'].split()\n",
    "        for recipient in recipients:\n",
    "            if '@' in recipient:\n",
    "                dic_of_recipients[recipient] = dic_of_recipients.get(recipient, 0) + similarities[idx][0]\n",
    "\n",
    "    return dic_of_recipients\n",
    "\n",
    "def get_recency_features(X_train_info_sender, mail_date, n_recency_features):    \n",
    "    dic_recency = {}\n",
    "    df_last_sent_emails = X_train_info_sender[X_train_info_sender.date<= mail_date].sort_values(by = 'date', ascending = False)[:n_recency_features]\n",
    "    for row in df_last_sent_emails.iterrows():\n",
    "        recipients = row[1]['recipients'].split()\n",
    "        for recipient in recipients:\n",
    "            if '@' in recipient:\n",
    "                dic_recency[recipient] = dic_recency.get(recipient, 0) + 1\n",
    "    norm = sum(dic_recency.values())\n",
    "    for k,v in dic_recency.iteritems():\n",
    "        dic_recency[k] = float(v)/norm\n",
    "    \n",
    "    return dic_recency\n",
    "\n",
    "def mean_ap(suggested_10_recipients, ground_truth):\n",
    "    MAP = 0\n",
    "    correct_guess = 0\n",
    "    for i, suggestion in enumerate(suggested_10_recipients):\n",
    "        if suggestion in ground_truth:\n",
    "            correct_guess +=1\n",
    "            MAP += float(correct_guess)/(i+1)\n",
    "    MAP = float(MAP)/min(10, len(ground_truth))\n",
    "    return MAP\n",
    "\n",
    "def header_address_ressemblance(text, address):\n",
    "    head = text[:20].lower()\n",
    "    name = address[:address.index('@')].split('.')\n",
    "    for n in name:\n",
    "        if len(n)>2:\n",
    "            if n in head:\n",
    "                return True\n",
    "    return False\n",
    "\n",
    "def generate_features(mail_tfidf, mail_date, ground_truth, sender, n, n_recency_features, mail_header):\n",
    "    \n",
    "    X_train_info_sender = X_train_info[X_train_info.sender == sender]\n",
    "    index_sender = X_train_info_sender.index.values\n",
    "    X_train_info_sender.index = range(X_train_info_sender.shape[0])\n",
    "    array_embedding_sparse_sender = array_embedding_sparse[index_sender]\n",
    "\n",
    "    closest_ids_per_sender, similarities = most_similar_sklearn(array_embedding_sparse_sender, mail_tfidf, n)\n",
    "\n",
    "    dic_recency = get_recency_features(X_train_info_sender, mail_date, n_recency_features)\n",
    "\n",
    "    dic_of_recipients = get_10_recipients(closest_ids_per_sender, X_train_info_sender, similarities)\n",
    "\n",
    "    new_features_per_mail = np.zeros((len(dic_of_recipients), 5))\n",
    "    labels_per_mail = np.zeros((len(dic_of_recipients), 1))\n",
    "    index = 0\n",
    "    for k,v in dic_of_recipients.iteritems():\n",
    "        KNNScore = v\n",
    "        NSF = sent_to[sender][k]\n",
    "        NRF = 0\n",
    "        if sender in received_from.keys():\n",
    "            NRF = received_from[sender].get(k, 0)\n",
    "\n",
    "        recency = 0\n",
    "        if k in dic_recency.keys():\n",
    "            recency = dic_recency[k]\n",
    "        \n",
    "        if ground_truth != None:\n",
    "            if k in ground_truth:\n",
    "                labels_per_mail[index, :] = 1\n",
    "        \n",
    "        head = 1.0 * header_address_ressemblance(mail_header, k)\n",
    "\n",
    "        new_features_per_mail[index, :] = [KNNScore, NSF, NRF, recency,head]\n",
    "        index +=1\n",
    "\n",
    "    return new_features_per_mail, labels_per_mail, dic_of_recipients"
   ]
  },
  {
   "cell_type": "markdown",
   "metadata": {},
   "source": [
    "## Create Features"
   ]
  },
  {
   "cell_type": "code",
   "execution_count": 5,
   "metadata": {
    "collapsed": true
   },
   "outputs": [],
   "source": [
    "#Declare Global variables:\n",
    "global X_train_info\n",
    "global X_test_info\n",
    "global array_embedding_sparse"
   ]
  },
  {
   "cell_type": "code",
   "execution_count": 6,
   "metadata": {
    "collapsed": false
   },
   "outputs": [],
   "source": [
    "submission = False\n",
    "training_info = training_info.sort_values(by='date')\n",
    "\n",
    "if submission:\n",
    "    # submission procedure\n",
    "    X_train_info = training_info\n",
    "    X_test_info = test_info\n",
    "    \n",
    "else:\n",
    "    # test procedure\n",
    "    split_date=datetime(2001, 8, 25)\n",
    "    X_train_info = training_info[training_info.date <= split_date]\n",
    "    #X_test_info = training_info[training_info.date > split_date]\n",
    "    \n",
    "    #Randomize selection of test set:\n",
    "    X_test_info = training_info[training_info.date > split_date]\n",
    "    mask = nprnd.choice(range(X_test_info.shape[0]), size=1000, replace=False)\n",
    "    X_test_info.index = range(X_test_info.shape[0])\n",
    "    X_test_info = X_test_info[X_test_info.index.isin(mask)]\n",
    "\n",
    "    X_train_info = training_info"
   ]
  },
  {
   "cell_type": "code",
   "execution_count": 7,
   "metadata": {
    "collapsed": true
   },
   "outputs": [],
   "source": [
    "if submission:\n",
    "    tfidf = TfidfVectorizer(stop_words = stop_words)\n",
    "    array_embedding_sparse = tfidf.fit_transform(np.concatenate((X_train_info['body'].values,X_test_info['body'].values)))\n",
    "    array_embedding_sparse = array_embedding_sparse[:X_train_info.shape[0]]\n",
    "else:\n",
    "    #With porter stemming:\n",
    "    #tfidf = TfidfVectorizer(tokenizer= tokenize, stop_words = stop_words)\n",
    "    #Without stemming:\n",
    "    tfidf = TfidfVectorizer(stop_words = stop_words)\n",
    "    array_embedding_sparse = tfidf.fit_transform(X_train_info['body'].values)"
   ]
  },
  {
   "cell_type": "markdown",
   "metadata": {},
   "source": [
    "## Compute New features"
   ]
  },
  {
   "cell_type": "code",
   "execution_count": 17,
   "metadata": {
    "collapsed": false,
    "scrolled": true
   },
   "outputs": [
    {
     "name": "stdout",
     "output_type": "stream",
     "text": [
      "george\n",
      "george\n",
      "mark\n",
      "john\n",
      "john\n",
      "mark\n",
      "tracy\n",
      "tracy\n",
      "rod\n",
      "susan\n",
      "susan\n",
      "mark\n",
      "sara\n",
      "mark\n",
      "per\n",
      "dale\n",
      "100\n",
      "0:00:07.120522\n",
      "susan\n",
      "susan\n"
     ]
    },
    {
     "ename": "KeyboardInterrupt",
     "evalue": "",
     "output_type": "error",
     "traceback": [
      "\u001b[0;31m---------------------------------------------------------------------------\u001b[0m",
      "\u001b[0;31mKeyboardInterrupt\u001b[0m                         Traceback (most recent call last)",
      "\u001b[0;32m<ipython-input-17-5dd47097df13>\u001b[0m in \u001b[0;36m<module>\u001b[0;34m()\u001b[0m\n\u001b[1;32m     31\u001b[0m \u001b[0;34m\u001b[0m\u001b[0m\n\u001b[1;32m     32\u001b[0m     \u001b[0;31m# Compute Features For this email\u001b[0m\u001b[0;34m\u001b[0m\u001b[0;34m\u001b[0m\u001b[0m\n\u001b[0;32m---> 33\u001b[0;31m     \u001b[0mnew_features_per_mail\u001b[0m\u001b[0;34m,\u001b[0m \u001b[0mlabels_per_mail\u001b[0m\u001b[0;34m,\u001b[0m \u001b[0mdic_of_recipients\u001b[0m \u001b[0;34m=\u001b[0m \u001b[0mgenerate_features\u001b[0m\u001b[0;34m(\u001b[0m\u001b[0mmail_tfidf\u001b[0m\u001b[0;34m,\u001b[0m \u001b[0mmail_date\u001b[0m\u001b[0;34m,\u001b[0m \u001b[0mground_truth\u001b[0m\u001b[0;34m,\u001b[0m \u001b[0msender\u001b[0m\u001b[0;34m,\u001b[0m \u001b[0mn\u001b[0m\u001b[0;34m,\u001b[0m \u001b[0mn_recency_features\u001b[0m\u001b[0;34m,\u001b[0m \u001b[0mmail\u001b[0m\u001b[0;34m[\u001b[0m\u001b[0;34m:\u001b[0m\u001b[0;36m20\u001b[0m\u001b[0;34m]\u001b[0m\u001b[0;34m)\u001b[0m\u001b[0;34m\u001b[0m\u001b[0m\n\u001b[0m\u001b[1;32m     34\u001b[0m \u001b[0;34m\u001b[0m\u001b[0m\n\u001b[1;32m     35\u001b[0m     \u001b[0;31m# Add to global features\u001b[0m\u001b[0;34m\u001b[0m\u001b[0;34m\u001b[0m\u001b[0m\n",
      "\u001b[0;32m<ipython-input-16-2110efff503d>\u001b[0m in \u001b[0;36mgenerate_features\u001b[0;34m(mail_tfidf, mail_date, ground_truth, sender, n, n_recency_features, mail_header)\u001b[0m\n\u001b[1;32m     84\u001b[0m         \u001b[0mNSF\u001b[0m \u001b[0;34m=\u001b[0m \u001b[0msent_to\u001b[0m\u001b[0;34m[\u001b[0m\u001b[0msender\u001b[0m\u001b[0;34m]\u001b[0m\u001b[0;34m[\u001b[0m\u001b[0mk\u001b[0m\u001b[0;34m]\u001b[0m\u001b[0;34m\u001b[0m\u001b[0m\n\u001b[1;32m     85\u001b[0m         \u001b[0mNRF\u001b[0m \u001b[0;34m=\u001b[0m \u001b[0;36m0\u001b[0m\u001b[0;34m\u001b[0m\u001b[0m\n\u001b[0;32m---> 86\u001b[0;31m         \u001b[0;32mif\u001b[0m \u001b[0msender\u001b[0m \u001b[0;32min\u001b[0m \u001b[0mreceived_from\u001b[0m\u001b[0;34m.\u001b[0m\u001b[0mkeys\u001b[0m\u001b[0;34m(\u001b[0m\u001b[0;34m)\u001b[0m\u001b[0;34m:\u001b[0m\u001b[0;34m\u001b[0m\u001b[0m\n\u001b[0m\u001b[1;32m     87\u001b[0m             \u001b[0mNRF\u001b[0m \u001b[0;34m=\u001b[0m \u001b[0mreceived_from\u001b[0m\u001b[0;34m[\u001b[0m\u001b[0msender\u001b[0m\u001b[0;34m]\u001b[0m\u001b[0;34m.\u001b[0m\u001b[0mget\u001b[0m\u001b[0;34m(\u001b[0m\u001b[0mk\u001b[0m\u001b[0;34m,\u001b[0m \u001b[0;36m0\u001b[0m\u001b[0;34m)\u001b[0m\u001b[0;34m\u001b[0m\u001b[0m\n\u001b[1;32m     88\u001b[0m \u001b[0;34m\u001b[0m\u001b[0m\n",
      "\u001b[0;31mKeyboardInterrupt\u001b[0m: "
     ]
    }
   ],
   "source": [
    "new_features_all = np.zeros((0,4))\n",
    "labels_all = np.zeros((0,1))\n",
    "\n",
    "# number of closest neighbors to collect recipients from:\n",
    "n = 30\n",
    "n_recency_features = 50\n",
    "\n",
    "#re-arrange train index\n",
    "X_train_info.index = range(X_train_info.shape[0])\n",
    "\n",
    "t_all = datetime.now()\n",
    "t_100 = datetime.now()\n",
    "\n",
    "count = 1\n",
    "query_id = 15000\n",
    "\n",
    "for query_id in X_train_info.index.values:\n",
    "    count+=1\n",
    "    if count%100==0:\n",
    "        print count\n",
    "        print datetime.now()-t_100\n",
    "        t_100 = datetime.now()\n",
    "\n",
    "    # Get info on considered mail\n",
    "    mail = X_train_info['body'][query_id]\n",
    "    header_address_ressemblance(mail, sender)\n",
    "    mail_tfidf = tfidf.transform([mail])\n",
    "    mail_date = X_train_info['date'][query_id]\n",
    "    ground_truth = X_train_info['recipients'][query_id].split()\n",
    "    sender = X_train_info['sender'][query_id]\n",
    "\n",
    "    # Compute Features For this email\n",
    "    new_features_per_mail, labels_per_mail, dic_of_recipients = generate_features(mail_tfidf, mail_date, ground_truth, sender, n, n_recency_features, mail[:20])\n",
    "\n",
    "    # Add to global features\n",
    "    new_features_all = np.concatenate((new_features_all, new_features_per_mail))\n",
    "    labels_all = np.concatenate((labels_all, labels_per_mail))\n",
    "\n",
    "\n",
    "print \"total took:\", datetime.now()-t_all"
   ]
  },
  {
   "cell_type": "code",
   "execution_count": 255,
   "metadata": {
    "collapsed": false
   },
   "outputs": [
    {
     "name": "stdout",
     "output_type": "stream",
     "text": [
      "0:00:00.120710\n"
     ]
    }
   ],
   "source": [
    "t1 = datetime.now()\n",
    "#np.save('../data/new_features', new_features_all)\n",
    "#np.save('../data/labels', labels_all)\n",
    "print datetime.now() - t1"
   ]
  },
  {
   "cell_type": "code",
   "execution_count": 73,
   "metadata": {
    "collapsed": false
   },
   "outputs": [],
   "source": [
    "new_features_all = np.load('../data/new_features1.npy')\n",
    "labels_all = np.ravel(np.load('../data/labels1.npy'))"
   ]
  },
  {
   "cell_type": "markdown",
   "metadata": {},
   "source": [
    "## Train Algorithm"
   ]
  },
  {
   "cell_type": "code",
   "execution_count": 74,
   "metadata": {
    "collapsed": true
   },
   "outputs": [],
   "source": [
    "from sklearn.svm import SVC\n",
    "from sklearn.svm import LinearSVC\n",
    "from sklearn.linear_model import LogisticRegression\n",
    "from sklearn.ensemble import AdaBoostClassifier"
   ]
  },
  {
   "cell_type": "code",
   "execution_count": null,
   "metadata": {
    "collapsed": false
   },
   "outputs": [],
   "source": [
    "#SVM = LinearSVC(dual=False)\n",
    "#SVM.fit(new_features_all, labels_all)\n",
    "\n",
    "# C parameter: smaller values mean bigger regularization\n",
    "#LR = LogisticRegression(C=0.01)\n",
    "#LR.fit(new_features_all, labels_all)\n",
    "\n",
    "ABC = AdaBoostClassifier()\n",
    "ABC.fit(new_features_all, labels_all)"
   ]
  },
  {
   "cell_type": "markdown",
   "metadata": {},
   "source": [
    "## Test"
   ]
  },
  {
   "cell_type": "markdown",
   "metadata": {},
   "source": [
    "Create test features"
   ]
  },
  {
   "cell_type": "code",
   "execution_count": 67,
   "metadata": {
    "collapsed": false
   },
   "outputs": [
    {
     "name": "stdout",
     "output_type": "stream",
     "text": [
      "total took: 0:00:00.172634\n"
     ]
    }
   ],
   "source": [
    "n = 30\n",
    "n_recency_features = 50\n",
    "#re-arrange train index\n",
    "X_train_info.index = range(X_train_info.shape[0])\n",
    "t_all = datetime.now()\n",
    "t_100 = datetime.now()\n",
    "results = pd.DataFrame(columns=['recipients'])\n",
    "results.index.name = 'mid'\n",
    "all_mean_ap = []\n",
    "all_ground_truth = []\n",
    "all_suggestions = []\n",
    "\n",
    "count=0\n",
    "for query_id in X_test_info.head(2).index.values:\n",
    "\n",
    "    count+=1\n",
    "    if count%100==0:\n",
    "        print count\n",
    "        print datetime.now()-t_100\n",
    "        t_100 = datetime.now()\n",
    "\n",
    "    mail = X_test_info['body'][query_id]\n",
    "    mail_tfidf = tfidf.transform([mail])\n",
    "    mail_date = X_test_info['date'][query_id]\n",
    "    if submission:\n",
    "        ground_truth = None\n",
    "        query_mid = X_test_info['mid'][query_id]\n",
    "    else:\n",
    "        ground_truth = X_test_info['recipients'][query_id].split()\n",
    "    sender = X_test_info['sender'][query_id]\n",
    "    \n",
    "    # Compute Features For this email\n",
    "    new_features_per_mail, labels_per_mail, dic_of_recipients = generate_features(mail_tfidf, mail_date, ground_truth, sender, n, n_recency_features)\n",
    "    \n",
    "    # Once the features are computed, we can predict the 10 recipients\n",
    "    order = ABC.predict_proba(new_features_per_mail)[:,1].argsort()[::-1]\n",
    "    recipients = np.array(dic_of_recipients.keys())\n",
    "    suggested_10_recipients = recipients[order][:10]\n",
    "\n",
    "    if submission:\n",
    "        string_recipients = ''\n",
    "        for k in suggested_10_recipients:\n",
    "            string_recipients+=k + ' '\n",
    "        results.loc[query_mid, 'recipients'] = string_recipients\n",
    "    else:\n",
    "\n",
    "        all_suggestions.append(suggested_10_recipients)\n",
    "        ground_truth.append(ground_truth)\n",
    "        all_mean_ap.append(mean_ap(suggested_10_recipients, ground_truth))\n",
    "\n",
    "\n",
    "print \"total took:\", datetime.now()-t_all"
   ]
  },
  {
   "cell_type": "code",
   "execution_count": 49,
   "metadata": {
    "collapsed": false
   },
   "outputs": [
    {
     "data": {
      "text/plain": [
       "['mark.palmer@enron.com',\n",
       " 'richard.shapiro@enron.com',\n",
       " 'steven.j.kean@enron.com',\n",
       " 'mark.koenig@enron.com',\n",
       " 'michael.tribolet@enron.com']"
      ]
     },
     "execution_count": 49,
     "metadata": {},
     "output_type": "execute_result"
    }
   ],
   "source": [
    "ground_truth"
   ]
  },
  {
   "cell_type": "code",
   "execution_count": 59,
   "metadata": {
    "collapsed": false
   },
   "outputs": [
    {
     "data": {
      "text/plain": [
       "0.33643196520477042"
      ]
     },
     "execution_count": 59,
     "metadata": {},
     "output_type": "execute_result"
    }
   ],
   "source": [
    "v"
   ]
  },
  {
   "cell_type": "code",
   "execution_count": 50,
   "metadata": {
    "collapsed": false
   },
   "outputs": [
    {
     "data": {
      "text/plain": [
       "'I wanted IR and PR to be aware that within the next few days  the PG&E Bankruptcy team will file with the Judge Enron s current claim.  We intend to ask the Judge to Lift the Stay so that we can file at the CPUC a complaint to recoup our current receivable.  I m not sure what our public statements have been and as soon as we prepare the filing, I ll let you know.If anyone has any questions, please give me a call.Thanks,Jim'"
      ]
     },
     "execution_count": 50,
     "metadata": {},
     "output_type": "execute_result"
    }
   ],
   "source": [
    "mail"
   ]
  },
  {
   "cell_type": "code",
   "execution_count": 53,
   "metadata": {
    "collapsed": false,
    "scrolled": true
   },
   "outputs": [
    {
     "name": "stdout",
     "output_type": "stream",
     "text": [
      "e..haedicke@enron.com richard.b.sanders@enron.com richard.shapiro@enron.com steven.j.kean@enron.com karen.denne@enron.com lisa.mellencamp@enron.com mark.palmer@enron.com vicki.sharp@enron.com c..williams@enron.com dan.leff@enron.com\n",
      "\n",
      "e..haedicke@enron.com richard.b.sanders@enron.com richard.shapiro@enron.com steven.j.kean@enron.com karen.denne@enron.com lisa.mellencamp@enron.com mark.palmer@enron.com vicki.sharp@enron.com c..williams@enron.com dan.leff@enron.com\n",
      "\n",
      "e..haedicke@enron.com richard.b.sanders@enron.com richard.shapiro@enron.com steven.j.kean@enron.com karen.denne@enron.com lisa.mellencamp@enron.com mark.palmer@enron.com vicki.sharp@enron.com c..williams@enron.com dan.leff@enron.com\n",
      "\n",
      "c..williams@enron.com peggy.mahoney@enron.com mark.koenig@enron.com richard.b.sanders@enron.com\n",
      "\n",
      "c..williams@enron.com peggy.mahoney@enron.com mark.koenig@enron.com richard.b.sanders@enron.com\n",
      "\n",
      "amr.ibrahim@enron.com\n",
      "\n",
      "susan.mara@enron.com linda.noske@enron.com harry.kingerski@enron.com paul.kaufman@enron.com lisa.mellencamp@enron.com michael.tribolet@enron.com jeff.dasovich@enron.com alan.comnes@enron.com\n",
      "\n",
      "susan.mara@enron.com linda.noske@enron.com harry.kingerski@enron.com paul.kaufman@enron.com lisa.mellencamp@enron.com michael.tribolet@enron.com jeff.dasovich@enron.com alan.comnes@enron.com\n",
      "\n",
      "susan.mara@enron.com david.w.delainey@enron.com lamar.frazier@enron.com janet.dietrich@enron.com vicki.sharp@enron.com mike.smith@enron.com jeremy.blachman@enron.com dan.leff@enron.com jeff.dasovich@enron.com\n",
      "\n",
      "susan.mara@enron.com david.w.delainey@enron.com lamar.frazier@enron.com janet.dietrich@enron.com vicki.sharp@enron.com mike.smith@enron.com jeremy.blachman@enron.com dan.leff@enron.com jeff.dasovich@enron.com\n",
      "\n",
      "bhansen@lhom.com paul.kaufman@enron.com sandra.mccubbin@enron.com jeff.dasovich@enron.com\n",
      "\n",
      "susan.mara@enron.com gordon.savage@enron.com chris.foster@enron.com kathryn.corbally@enron.com phillip.k.ellen@enron.com david.w.delainey@enron.com mark.palmer@enron.com travis.mccullough@enron.com mary.schoen@enron.com joe.hartsoe@enron.com wendy.conwell@enron.com mday@gmssr.com dan.leff@enron.com robert.williams@enron.com robert.frank@enron.com paul.kaufman@enron.com richard.b.sanders@enron.com rob.bradley@enron.com robert.neustaedter@enron.com robert.johnston@enron.com elizabeth.sager@enron.com richard.shapiro@enron.com don.black@enron.com mary.hain@enron.com marcia.linton@enron.com vicki.sharp@enron.com dennis.benevides@enron.com linda.robertson@enron.com shelley.corman@enron.com christopher.calger@enron.com william.bradford@enron.com sandra.mccubbin@enron.com kristin.walsh@enron.com robert.badeer@enron.com jubran.whalan@enron.com christian.yoder@enron.com alan.comnes@enron.com elizabeth.tilney@enron.com john.lavorato@enron.com steven.j.kean@enron.com scott.stoness@enron.com steve.walton@enron.com vance.meyer@enron.com jeffrey.hodge@enron.com steve.hall@enron.com mike.smith@enron.com michael.tribolet@enron.com cynthia.sandherr@enron.com greg.wolfe@enron.com jeff.dasovich@enron.com leslie.lawner@enron.com john.neslage@enron.com harry.kingerski@enron.com eric.thode@enron.com mike.grigsby@enron.com tim.belden@enron.com marty.sunde@enron.com neil.bresnan@enron.com rebecca.cantrell@enron.com louise.kitchen@enron.com keith.holst@enron.com tom.briggs@enron.com\n",
      "\n",
      "susan.mara@enron.com gordon.savage@enron.com chris.foster@enron.com kathryn.corbally@enron.com phillip.k.ellen@enron.com david.w.delainey@enron.com mark.palmer@enron.com travis.mccullough@enron.com mary.schoen@enron.com joe.hartsoe@enron.com wendy.conwell@enron.com mday@gmssr.com dan.leff@enron.com robert.williams@enron.com robert.frank@enron.com paul.kaufman@enron.com richard.b.sanders@enron.com rob.bradley@enron.com robert.neustaedter@enron.com robert.johnston@enron.com elizabeth.sager@enron.com richard.shapiro@enron.com don.black@enron.com mary.hain@enron.com marcia.linton@enron.com vicki.sharp@enron.com dennis.benevides@enron.com linda.robertson@enron.com shelley.corman@enron.com christopher.calger@enron.com william.bradford@enron.com sandra.mccubbin@enron.com kristin.walsh@enron.com robert.badeer@enron.com jubran.whalan@enron.com christian.yoder@enron.com alan.comnes@enron.com elizabeth.tilney@enron.com john.lavorato@enron.com steven.j.kean@enron.com scott.stoness@enron.com steve.walton@enron.com vance.meyer@enron.com jeffrey.hodge@enron.com steve.hall@enron.com mike.smith@enron.com michael.tribolet@enron.com cynthia.sandherr@enron.com greg.wolfe@enron.com jeff.dasovich@enron.com leslie.lawner@enron.com john.neslage@enron.com harry.kingerski@enron.com eric.thode@enron.com mike.grigsby@enron.com tim.belden@enron.com marty.sunde@enron.com neil.bresnan@enron.com rebecca.cantrell@enron.com louise.kitchen@enron.com keith.holst@enron.com tom.briggs@enron.com\n",
      "\n",
      "jennifer.thome@enron.com\n",
      "\n",
      "kimberly.hillis@enron.com richard.shapiro@enron.com louise.kitchen@enron.com\n",
      "\n",
      "susan.mara@enron.com richard.b.sanders@enron.com no.address@enron.com richard.shapiro@enron.com steven.j.kean@enron.com vicki.sharp@enron.com c..williams@enron.com jeff.dasovich@enron.com\n",
      "\n",
      "marcus.dotson@enron.com susan.mara@enron.com harry.kingerski@enron.com james.wood@enron.com richard.shapiro@enron.com scott.gahn@enron.com paul.kaufman@enron.com lamar.frazier@enron.com vicki.sharp@enron.com dennis.benevides@enron.com richard.zdunkewicz@enron.com jeff.richter@enron.com jeremy.blachman@enron.com marty.sunde@enron.com jeff.dasovich@enron.com\n",
      "\n",
      "paul.kaufman@enron.com jean.ryall@enron.com richard.shapiro@enron.com linda.robertson@enron.com janine.migden@enron.com steve.montovano@enron.com christi.nicolay@enron.com\n",
      "\n",
      "l..nicolay@enron.com\n",
      "\n",
      "fred.kelly@enron.com jeff.golden@enron.com jeff.dasovich@enron.com eric.letke@enron.com\n",
      "\n",
      "tom.delaney@enron.com susan.mara@enron.com dan.staines@enron.com richard.ingersoll@enron.com mark.palmer@enron.com donna.fulton@enron.com joe.hartsoe@enron.com thane.twiggs@enron.com tom.chapman@enron.com mary.hain@enron.com paul.kaufman@enron.com richard.shapiro@enron.com jeff.brown@enron.com steve.montovano@enron.com janine.migden@enron.com joe.connor@enron.com ron.mcnamara@enron.com steven.j.kean@enron.com steve.walton@enron.com christi.nicolay@enron.com jeff.dasovich@enron.com robin.kittel@enron.com sarah.novosel@enron.com tom.hoatson@enron.com daniel.allegretti@enron.com\n",
      "\n",
      "tom.delaney@enron.com susan.mara@enron.com dan.staines@enron.com richard.ingersoll@enron.com mark.palmer@enron.com donna.fulton@enron.com joe.hartsoe@enron.com thane.twiggs@enron.com tom.chapman@enron.com mary.hain@enron.com paul.kaufman@enron.com richard.shapiro@enron.com jeff.brown@enron.com steve.montovano@enron.com janine.migden@enron.com joe.connor@enron.com ron.mcnamara@enron.com steven.j.kean@enron.com steve.walton@enron.com christi.nicolay@enron.com jeff.dasovich@enron.com robin.kittel@enron.com sarah.novosel@enron.com tom.hoatson@enron.com daniel.allegretti@enron.com\n",
      "\n",
      "tom.delaney@enron.com susan.mara@enron.com dan.staines@enron.com richard.ingersoll@enron.com mark.palmer@enron.com donna.fulton@enron.com joe.hartsoe@enron.com thane.twiggs@enron.com tom.chapman@enron.com mary.hain@enron.com paul.kaufman@enron.com richard.shapiro@enron.com jeff.brown@enron.com steve.montovano@enron.com janine.migden@enron.com joe.connor@enron.com ron.mcnamara@enron.com steven.j.kean@enron.com steve.walton@enron.com christi.nicolay@enron.com jeff.dasovich@enron.com robin.kittel@enron.com sarah.novosel@enron.com tom.hoatson@enron.com daniel.allegretti@enron.com\n",
      "\n",
      "richard.shapiro@enron.com paul.kaufman@enron.com jennifer.thome@enron.com janel.guerrero@enron.com m..landwehr@enron.com\n",
      "\n",
      "steven.j.kean@enron.com jeff.dasovich@enron.com\n",
      "\n",
      "susan.mara@enron.com gordon.savage@enron.com harry.kingerski@enron.com steve.swain@enron.com lisa.mellencamp@enron.com vicki.sharp@enron.com diann.huddleson@enron.com c..williams@enron.com jeff.dasovich@enron.com\n",
      "\n",
      "susan.mara@enron.com alan.comnes@enron.com richard.shapiro@enron.com steven.j.kean@enron.com sarah.novosel@enron.com jeffrey.hodge@enron.com robert.frank@enron.com linda.robertson@enron.com jeff.dasovich@enron.com ray.alvarez@enron.com dwatkiss@bracepatt.com robert.williams@enron.com\n",
      "\n",
      "mday@gmssr.com susan.mara@enron.com jbennett@gmssr.com jeff.dasovich@enron.com harry.kingerski@enron.com\n",
      "\n",
      "wanda.curry@enron.com c..williams@enron.com jeff.dasovich@enron.com diann.huddleson@enron.com lisa.mellencamp@enron.com\n",
      "\n",
      "ray.alvarez@enron.com\n",
      "\n"
     ]
    }
   ],
   "source": [
    "for idx in closest_ids_per_sender:\n",
    "    print X_train_info_sender[X_train_info_sender.index == idx]['recipients'].values[0]\n",
    "    print "
   ]
  },
  {
   "cell_type": "code",
   "execution_count": 54,
   "metadata": {
    "collapsed": false,
    "scrolled": true
   },
   "outputs": [
    {
     "data": {
      "text/plain": [
       "{'alan.comnes@enron.com': 0.82014060600854344,\n",
       " 'amr.ibrahim@enron.com': 0.19292907510461701,\n",
       " 'bhansen@lhom.com': 0.17167940519796948,\n",
       " 'c..williams@enron.com': 1.4914341994999485,\n",
       " 'chris.foster@enron.com': 0.33643196520477042,\n",
       " 'christi.nicolay@enron.com': 0.58488662503206501,\n",
       " 'christian.yoder@enron.com': 0.33643196520477042,\n",
       " 'christopher.calger@enron.com': 0.33643196520477042,\n",
       " 'cynthia.sandherr@enron.com': 0.33643196520477042,\n",
       " 'dan.leff@enron.com': 1.3486754531772487,\n",
       " 'dan.staines@enron.com': 0.42839949983756281,\n",
       " 'daniel.allegretti@enron.com': 0.42839949983756281,\n",
       " 'david.w.delainey@enron.com': 0.68238752312152096,\n",
       " 'dennis.benevides@enron.com': 0.49780268987988519,\n",
       " 'diann.huddleson@enron.com': 0.2739588836512068,\n",
       " 'don.black@enron.com': 0.33643196520477042,\n",
       " 'donna.fulton@enron.com': 0.42839949983756281,\n",
       " 'dwatkiss@bracepatt.com': 0.13740129554717412,\n",
       " 'e..haedicke@enron.com': 0.66628793005572762,\n",
       " 'elizabeth.sager@enron.com': 0.33643196520477042,\n",
       " 'elizabeth.tilney@enron.com': 0.33643196520477042,\n",
       " 'eric.letke@enron.com': 0.14773393907668897,\n",
       " 'eric.thode@enron.com': 0.33643196520477042,\n",
       " 'fred.kelly@enron.com': 0.14773393907668897,\n",
       " 'gordon.savage@enron.com': 0.47655896601116121,\n",
       " 'greg.wolfe@enron.com': 0.33643196520477042,\n",
       " 'harry.kingerski@enron.com': 1.1213172252904213,\n",
       " 'james.wood@enron.com': 0.16137072467511479,\n",
       " 'janel.guerrero@enron.com': 0.14199033035751518,\n",
       " 'janet.dietrich@enron.com': 0.34595555791675048,\n",
       " 'janine.migden@enron.com': 0.58488662503206501,\n",
       " 'jbennett@gmssr.com': 0.13708018934754632,\n",
       " 'jean.ryall@enron.com': 0.15648712519450222,\n",
       " 'jeff.brown@enron.com': 0.42839949983756281,\n",
       " 'jeff.dasovich@enron.com': 2.7911423427509101,\n",
       " 'jeff.golden@enron.com': 0.14773393907668897,\n",
       " 'jeff.richter@enron.com': 0.16137072467511479,\n",
       " 'jeffrey.hodge@enron.com': 0.47383326075194454,\n",
       " 'jennifer.thome@enron.com': 0.30672693747783647,\n",
       " 'jeremy.blachman@enron.com': 0.5073262825918653,\n",
       " 'joe.connor@enron.com': 0.42839949983756281,\n",
       " 'joe.hartsoe@enron.com': 0.76483146504233313,\n",
       " 'john.lavorato@enron.com': 0.33643196520477042,\n",
       " 'john.neslage@enron.com': 0.33643196520477042,\n",
       " 'jubran.whalan@enron.com': 0.33643196520477042,\n",
       " 'karen.denne@enron.com': 0.66628793005572762,\n",
       " 'kathryn.corbally@enron.com': 0.33643196520477042,\n",
       " 'keith.holst@enron.com': 0.33643196520477042,\n",
       " 'kimberly.hillis@enron.com': 0.16354152569158065,\n",
       " 'kristin.walsh@enron.com': 0.33643196520477042,\n",
       " 'l..nicolay@enron.com': 0.154723713246604,\n",
       " 'lamar.frazier@enron.com': 0.5073262825918653,\n",
       " 'leslie.lawner@enron.com': 0.33643196520477042,\n",
       " 'linda.noske@enron.com': 0.34630734525659895,\n",
       " 'linda.robertson@enron.com': 0.63032038594644679,\n",
       " 'lisa.mellencamp@enron.com': 1.2865541589635334,\n",
       " 'louise.kitchen@enron.com': 0.49997349089635107,\n",
       " 'm..landwehr@enron.com': 0.14199033035751518,\n",
       " 'marcia.linton@enron.com': 0.33643196520477042,\n",
       " 'marcus.dotson@enron.com': 0.16137072467511479,\n",
       " 'mark.koenig@enron.com': 0.38798584079328818,\n",
       " 'mark.palmer@enron.com': 1.4311193950980607,\n",
       " 'marty.sunde@enron.com': 0.49780268987988519,\n",
       " 'mary.hain@enron.com': 0.76483146504233313,\n",
       " 'mary.schoen@enron.com': 0.33643196520477042,\n",
       " 'mday@gmssr.com': 0.47351215455231677,\n",
       " 'michael.tribolet@enron.com': 0.68273931046136938,\n",
       " 'mike.grigsby@enron.com': 0.33643196520477042,\n",
       " 'mike.smith@enron.com': 0.68238752312152096,\n",
       " 'neil.bresnan@enron.com': 0.33643196520477042,\n",
       " 'no.address@enron.com': 0.16320154499972589,\n",
       " 'paul.kaufman@enron.com': 1.7426663957240336,\n",
       " 'peggy.mahoney@enron.com': 0.38798584079328818,\n",
       " 'phillip.k.ellen@enron.com': 0.33643196520477042,\n",
       " 'ray.alvarez@enron.com': 0.27037992393999299,\n",
       " 'rebecca.cantrell@enron.com': 0.33643196520477042,\n",
       " 'richard.b.sanders@enron.com': 1.5539072810535122,\n",
       " 'richard.ingersoll@enron.com': 0.42839949983756281,\n",
       " 'richard.shapiro@enron.com': 2.3551119415636732,\n",
       " 'richard.zdunkewicz@enron.com': 0.16137072467511479,\n",
       " 'rob.bradley@enron.com': 0.33643196520477042,\n",
       " 'robert.badeer@enron.com': 0.33643196520477042,\n",
       " 'robert.frank@enron.com': 0.47383326075194454,\n",
       " 'robert.johnston@enron.com': 0.33643196520477042,\n",
       " 'robert.neustaedter@enron.com': 0.33643196520477042,\n",
       " 'robert.williams@enron.com': 0.47383326075194454,\n",
       " 'robin.kittel@enron.com': 0.42839949983756281,\n",
       " 'ron.mcnamara@enron.com': 0.42839949983756281,\n",
       " 'sandra.mccubbin@enron.com': 0.5081113704027399,\n",
       " 'sarah.novosel@enron.com': 0.56580079538473693,\n",
       " 'scott.gahn@enron.com': 0.16137072467511479,\n",
       " 'scott.stoness@enron.com': 0.33643196520477042,\n",
       " 'shelley.corman@enron.com': 0.33643196520477042,\n",
       " 'steve.hall@enron.com': 0.33643196520477042,\n",
       " 'steve.montovano@enron.com': 0.58488662503206501,\n",
       " 'steve.swain@enron.com': 0.14012700080639076,\n",
       " 'steve.walton@enron.com': 0.76483146504233313,\n",
       " 'steven.j.kean@enron.com': 1.8733442276847621,\n",
       " 'susan.mara@enron.com': 2.1962751235916342,\n",
       " 'thane.twiggs@enron.com': 0.42839949983756281,\n",
       " 'tim.belden@enron.com': 0.33643196520477042,\n",
       " 'tom.briggs@enron.com': 0.33643196520477042,\n",
       " 'tom.chapman@enron.com': 0.42839949983756281,\n",
       " 'tom.delaney@enron.com': 0.42839949983756281,\n",
       " 'tom.hoatson@enron.com': 0.42839949983756281,\n",
       " 'travis.mccullough@enron.com': 0.33643196520477042,\n",
       " 'vance.meyer@enron.com': 0.33643196520477042,\n",
       " 'vicki.sharp@enron.com': 1.8133747236584803,\n",
       " 'wanda.curry@enron.com': 0.13383188284481601,\n",
       " 'wendy.conwell@enron.com': 0.33643196520477042,\n",
       " 'william.bradford@enron.com': 0.33643196520477042}"
      ]
     },
     "execution_count": 54,
     "metadata": {},
     "output_type": "execute_result"
    }
   ],
   "source": [
    "dic_of_recipients"
   ]
  },
  {
   "cell_type": "code",
   "execution_count": 56,
   "metadata": {
    "collapsed": false,
    "scrolled": true
   },
   "outputs": [
    {
     "data": {
      "text/plain": [
       "{'alan.comnes@enron.com': 0.008695652173913044,\n",
       " 'aleck.dadson@enron.com': 0.017391304347826087,\n",
       " 'amr.ibrahim@enron.com': 0.017391304347826087,\n",
       " 'c..williams@enron.com': 0.02608695652173913,\n",
       " 'dan.staines@enron.com': 0.017391304347826087,\n",
       " 'daniel.allegretti@enron.com': 0.017391304347826087,\n",
       " 'dave.perrino@enron.com': 0.008695652173913044,\n",
       " 'david.howe@enron.com': 0.008695652173913044,\n",
       " 'diann.huddleson@enron.com': 0.008695652173913044,\n",
       " 'dolores.muzzy@enron.com': 0.008695652173913044,\n",
       " 'donna.fulton@enron.com': 0.008695652173913044,\n",
       " 'elizabeth.linnell@enron.com': 0.008695652173913044,\n",
       " 'eric.gadd@enron.com': 0.008695652173913044,\n",
       " 'ginger.dernehl@enron.com': 0.008695652173913044,\n",
       " 'gus.perez@enron.com': 0.008695652173913044,\n",
       " 'harry.kingerski@enron.com': 0.008695652173913044,\n",
       " 'howard.fromer@enron.com': 0.017391304347826087,\n",
       " 'j..noske@enron.com': 0.05217391304347826,\n",
       " 'janel.guerrero@enron.com': 0.02608695652173913,\n",
       " 'janine.migden@enron.com': 0.008695652173913044,\n",
       " 'jeff.dasovich@enron.com': 0.043478260869565216,\n",
       " 'jennifer.thome@enron.com': 0.008695652173913044,\n",
       " 'joe.connor@enron.com': 0.008695652173913044,\n",
       " 'john.lavorato@enron.com': 0.017391304347826087,\n",
       " 'john.shelk@enron.com': 0.043478260869565216,\n",
       " 'kerry.stroup@enron.com': 0.008695652173913044,\n",
       " 'l..nicolay@enron.com': 0.034782608695652174,\n",
       " 'linda.robertson@enron.com': 0.05217391304347826,\n",
       " 'lisa.mellencamp@enron.com': 0.008695652173913044,\n",
       " 'louise.kitchen@enron.com': 0.017391304347826087,\n",
       " 'luiz.maurer@enron.com': 0.008695652173913044,\n",
       " 'm..landwehr@enron.com': 0.008695652173913044,\n",
       " 'mark.koenig@enron.com': 0.008695652173913044,\n",
       " 'mark.palmer@enron.com': 0.008695652173913044,\n",
       " 'michael.roan@enron.com': 0.008695652173913044,\n",
       " 'michael.tribolet@enron.com': 0.017391304347826087,\n",
       " 'msteffes@mindspring.com': 0.017391304347826087,\n",
       " 'pat.shortridge@enron.com': 0.02608695652173913,\n",
       " 'paul.kaufman@enron.com': 0.008695652173913044,\n",
       " 'paul.lebeau@enron.com': 0.008695652173913044,\n",
       " 'ray.alvarez@enron.com': 0.017391304347826087,\n",
       " 'richard.b.sanders@enron.com': 0.05217391304347826,\n",
       " 'richard.shapiro@enron.com': 0.05217391304347826,\n",
       " 'robert.frank@enron.com': 0.017391304347826087,\n",
       " 'sarah.novosel@enron.com': 0.05217391304347826,\n",
       " 'security.sap@enron.com': 0.008695652173913044,\n",
       " 'steve.montovano@enron.com': 0.008695652173913044,\n",
       " 'steve.swain@enron.com': 0.017391304347826087,\n",
       " 'steve.walton@enron.com': 0.008695652173913044,\n",
       " 'steven.j.kean@enron.com': 0.008695652173913044,\n",
       " 'susan.lindberg@enron.com': 0.008695652173913044,\n",
       " 'susan.mara@enron.com': 0.034782608695652174,\n",
       " 'tom.briggs@enron.com': 0.008695652173913044,\n",
       " 'tom.hoatson@enron.com': 0.008695652173913044,\n",
       " 'vicki.sharp@enron.com': 0.017391304347826087,\n",
       " 'w..cantrell@enron.com': 0.017391304347826087}"
      ]
     },
     "execution_count": 56,
     "metadata": {},
     "output_type": "execute_result"
    }
   ],
   "source": [
    "dic_recency"
   ]
  },
  {
   "cell_type": "code",
   "execution_count": 64,
   "metadata": {
    "collapsed": false
   },
   "outputs": [
    {
     "data": {
      "text/plain": [
       "0.33643196520477042"
      ]
     },
     "execution_count": 64,
     "metadata": {},
     "output_type": "execute_result"
    }
   ],
   "source": [
    "v"
   ]
  },
  {
   "cell_type": "code",
   "execution_count": 69,
   "metadata": {
    "collapsed": false,
    "scrolled": true
   },
   "outputs": [
    {
     "data": {
      "text/plain": [
       "array([[ 0.],\n",
       "       [ 0.],\n",
       "       [ 0.],\n",
       "       [ 0.],\n",
       "       [ 0.],\n",
       "       [ 1.],\n",
       "       [ 0.],\n",
       "       [ 0.],\n",
       "       [ 0.],\n",
       "       [ 0.],\n",
       "       [ 0.],\n",
       "       [ 0.],\n",
       "       [ 0.],\n",
       "       [ 1.],\n",
       "       [ 0.],\n",
       "       [ 0.],\n",
       "       [ 0.],\n",
       "       [ 0.],\n",
       "       [ 0.],\n",
       "       [ 0.],\n",
       "       [ 0.],\n",
       "       [ 0.],\n",
       "       [ 0.],\n",
       "       [ 0.],\n",
       "       [ 0.],\n",
       "       [ 0.],\n",
       "       [ 0.],\n",
       "       [ 0.],\n",
       "       [ 0.],\n",
       "       [ 0.],\n",
       "       [ 0.],\n",
       "       [ 0.],\n",
       "       [ 0.],\n",
       "       [ 0.],\n",
       "       [ 0.],\n",
       "       [ 0.],\n",
       "       [ 0.],\n",
       "       [ 0.],\n",
       "       [ 0.],\n",
       "       [ 0.],\n",
       "       [ 0.],\n",
       "       [ 0.],\n",
       "       [ 0.],\n",
       "       [ 0.],\n",
       "       [ 0.],\n",
       "       [ 0.],\n",
       "       [ 0.],\n",
       "       [ 0.],\n",
       "       [ 0.],\n",
       "       [ 0.],\n",
       "       [ 0.],\n",
       "       [ 0.],\n",
       "       [ 0.],\n",
       "       [ 0.],\n",
       "       [ 0.],\n",
       "       [ 0.],\n",
       "       [ 0.],\n",
       "       [ 0.],\n",
       "       [ 0.],\n",
       "       [ 0.],\n",
       "       [ 0.],\n",
       "       [ 0.],\n",
       "       [ 1.],\n",
       "       [ 0.],\n",
       "       [ 0.],\n",
       "       [ 0.],\n",
       "       [ 0.],\n",
       "       [ 0.],\n",
       "       [ 0.],\n",
       "       [ 0.],\n",
       "       [ 0.],\n",
       "       [ 0.],\n",
       "       [ 0.],\n",
       "       [ 0.],\n",
       "       [ 0.],\n",
       "       [ 0.],\n",
       "       [ 0.],\n",
       "       [ 0.],\n",
       "       [ 0.],\n",
       "       [ 0.],\n",
       "       [ 0.],\n",
       "       [ 0.],\n",
       "       [ 0.],\n",
       "       [ 0.],\n",
       "       [ 0.],\n",
       "       [ 0.],\n",
       "       [ 0.],\n",
       "       [ 1.],\n",
       "       [ 0.],\n",
       "       [ 0.],\n",
       "       [ 0.],\n",
       "       [ 0.],\n",
       "       [ 0.],\n",
       "       [ 0.],\n",
       "       [ 0.],\n",
       "       [ 0.],\n",
       "       [ 0.],\n",
       "       [ 0.],\n",
       "       [ 0.],\n",
       "       [ 1.],\n",
       "       [ 0.],\n",
       "       [ 0.],\n",
       "       [ 0.],\n",
       "       [ 0.],\n",
       "       [ 0.],\n",
       "       [ 0.],\n",
       "       [ 0.],\n",
       "       [ 0.],\n",
       "       [ 0.],\n",
       "       [ 0.],\n",
       "       [ 0.]])"
      ]
     },
     "execution_count": 69,
     "metadata": {},
     "output_type": "execute_result"
    }
   ],
   "source": [
    "labels_per_mail"
   ]
  },
  {
   "cell_type": "code",
   "execution_count": 68,
   "metadata": {
    "collapsed": false,
    "scrolled": true
   },
   "outputs": [
    {
     "name": "stdout",
     "output_type": "stream",
     "text": [
      "[[  2.19627512e+00   3.89797883e-02   0.00000000e+00   3.47826087e-02]\n",
      " [  3.46307345e-01   8.42155919e-04   0.00000000e+00   0.00000000e+00]\n",
      " [  1.61370725e-01   1.08277190e-03   0.00000000e+00   0.00000000e+00]\n",
      " [  1.92929075e-01   4.21077960e-03   4.07608696e-02   1.73913043e-02]\n",
      " [  6.82387523e-01   9.98556304e-03   0.00000000e+00   0.00000000e+00]\n",
      " [  3.87985841e-01   8.42155919e-04   0.00000000e+00   8.69565217e-03]\n",
      " [  7.64831465e-01   1.52791145e-02   0.00000000e+00   0.00000000e+00]\n",
      " [  2.70379924e-01   8.18094321e-03   0.00000000e+00   1.73913043e-02]\n",
      " [  1.37401296e-01   1.08277190e-03   0.00000000e+00   0.00000000e+00]\n",
      " [  4.28399500e-01   6.01539942e-04   0.00000000e+00   0.00000000e+00]\n",
      " [  4.28399500e-01   1.44369586e-03   0.00000000e+00   1.73913043e-02]\n",
      " [  3.36431965e-01   4.09047161e-03   0.00000000e+00   0.00000000e+00]\n",
      " [  1.41990330e-01   2.64677575e-03   0.00000000e+00   8.69565217e-03]\n",
      " [  2.35511194e+00   6.62897016e-02   9.85054348e-02   5.21739130e-02]\n",
      " [  1.81337472e+00   1.31135707e-02   0.00000000e+00   1.73913043e-02]\n",
      " [  4.73833261e-01   7.57940327e-03   0.00000000e+00   1.73913043e-02]\n",
      " [  3.36431965e-01   1.92492782e-03   0.00000000e+00   0.00000000e+00]\n",
      " [  1.63541526e-01   7.21847931e-04   0.00000000e+00   0.00000000e+00]\n",
      " [  8.20140606e-01   2.06929740e-02   9.17119565e-02   8.69565217e-03]\n",
      " [  1.54723713e-01   1.88883542e-02   6.18206522e-02   3.47826087e-02]\n",
      " [  3.36431965e-01   4.21077960e-03   0.00000000e+00   0.00000000e+00]\n",
      " [  3.36431965e-01   5.77478345e-03   0.00000000e+00   0.00000000e+00]\n",
      " [  7.64831465e-01   1.17901829e-02   0.00000000e+00   8.69565217e-03]\n",
      " [  3.36431965e-01   3.24831569e-03   0.00000000e+00   0.00000000e+00]\n",
      " [  5.07326283e-01   3.00769971e-03   0.00000000e+00   0.00000000e+00]\n",
      " [  4.28399500e-01   1.80461983e-03   0.00000000e+00   0.00000000e+00]\n",
      " [  1.12131723e+00   2.64677575e-02   5.09510870e-02   8.69565217e-03]\n",
      " [  3.36431965e-01   3.24831569e-03   0.00000000e+00   0.00000000e+00]\n",
      " [  3.36431965e-01   3.24831569e-03   0.00000000e+00   0.00000000e+00]\n",
      " [  4.28399500e-01   3.48893167e-03   0.00000000e+00   1.73913043e-02]\n",
      " [  4.99973491e-01   6.25601540e-03   0.00000000e+00   1.73913043e-02]\n",
      " [  3.36431965e-01   3.36862368e-03   0.00000000e+00   0.00000000e+00]\n",
      " [  3.45955558e-01   4.57170356e-03   0.00000000e+00   0.00000000e+00]\n",
      " [  1.61370725e-01   1.20307988e-04   0.00000000e+00   0.00000000e+00]\n",
      " [  1.47733939e-01   2.40615977e-04   0.00000000e+00   0.00000000e+00]\n",
      " [  3.87985841e-01   1.32338787e-03   0.00000000e+00   0.00000000e+00]\n",
      " [  4.73512155e-01   6.49663138e-03   0.00000000e+00   0.00000000e+00]\n",
      " [  1.74266640e+00   2.57459095e-02   3.94021739e-02   8.69565217e-03]\n",
      " [  1.55390728e+00   1.46775746e-02   0.00000000e+00   5.21739130e-02]\n",
      " [  1.63201545e-01   7.82001925e-03   0.00000000e+00   0.00000000e+00]\n",
      " [  3.36431965e-01   4.09047161e-03   0.00000000e+00   0.00000000e+00]\n",
      " [  3.36431965e-01   7.69971126e-03   0.00000000e+00   0.00000000e+00]\n",
      " [  6.30320386e-01   1.93695861e-02   0.00000000e+00   5.21739130e-02]\n",
      " [  5.84886625e-01   5.41385948e-03   0.00000000e+00   8.69565217e-03]\n",
      " [  3.36431965e-01   5.53416747e-03   0.00000000e+00   0.00000000e+00]\n",
      " [  6.66287930e-01   1.68431184e-03   0.00000000e+00   0.00000000e+00]\n",
      " [  5.08111370e-01   1.29932628e-02   0.00000000e+00   0.00000000e+00]\n",
      " [  1.41990330e-01   6.97786333e-03   6.38586957e-02   2.60869565e-02]\n",
      " [  1.40127001e-01   3.97016362e-03   0.00000000e+00   1.73913043e-02]\n",
      " [  3.36431965e-01   3.24831569e-03   0.00000000e+00   0.00000000e+00]\n",
      " [  1.28655416e+00   5.41385948e-03   7.47282609e-03   8.69565217e-03]\n",
      " [  1.47733939e-01   1.20307988e-04   0.00000000e+00   0.00000000e+00]\n",
      " [  3.36431965e-01   1.56400385e-03   0.00000000e+00   0.00000000e+00]\n",
      " [  3.36431965e-01   6.97786333e-03   0.00000000e+00   0.00000000e+00]\n",
      " [  3.36431965e-01   1.80461983e-03   0.00000000e+00   0.00000000e+00]\n",
      " [  3.36431965e-01   3.36862368e-03   0.00000000e+00   0.00000000e+00]\n",
      " [  1.56487125e-01   5.53416747e-03   0.00000000e+00   0.00000000e+00]\n",
      " [  5.65800795e-01   2.39412897e-02   0.00000000e+00   5.21739130e-02]\n",
      " [  1.47733939e-01   4.81231954e-04   0.00000000e+00   0.00000000e+00]\n",
      " [  4.76558966e-01   4.09047161e-03   0.00000000e+00   0.00000000e+00]\n",
      " [  4.28399500e-01   1.32338787e-03   0.00000000e+00   0.00000000e+00]\n",
      " [  3.36431965e-01   3.84985563e-03   0.00000000e+00   0.00000000e+00]\n",
      " [  6.82739310e-01   1.19104909e-02   5.43478261e-02   1.73913043e-02]\n",
      " [  1.71679405e-01   2.16554379e-03   0.00000000e+00   0.00000000e+00]\n",
      " [  4.28399500e-01   4.93262753e-03   0.00000000e+00   8.69565217e-03]\n",
      " [  4.28399500e-01   2.88739172e-03   0.00000000e+00   0.00000000e+00]\n",
      " [  4.97802690e-01   5.17324350e-03   0.00000000e+00   0.00000000e+00]\n",
      " [  3.36431965e-01   3.84985563e-03   0.00000000e+00   0.00000000e+00]\n",
      " [  1.61370725e-01   1.92492782e-03   0.00000000e+00   0.00000000e+00]\n",
      " [  3.36431965e-01   4.69201155e-03   0.00000000e+00   0.00000000e+00]\n",
      " [  4.97802690e-01   3.48893167e-03   0.00000000e+00   0.00000000e+00]\n",
      " [  3.36431965e-01   3.36862368e-03   0.00000000e+00   0.00000000e+00]\n",
      " [  3.36431965e-01   3.60923965e-03   0.00000000e+00   0.00000000e+00]\n",
      " [  3.36431965e-01   3.84985563e-03   0.00000000e+00   0.00000000e+00]\n",
      " [  4.28399500e-01   1.44369586e-03   0.00000000e+00   8.69565217e-03]\n",
      " [  3.36431965e-01   3.24831569e-03   0.00000000e+00   0.00000000e+00]\n",
      " [  4.73833261e-01   3.84985563e-03   0.00000000e+00   0.00000000e+00]\n",
      " [  2.79114234e+00   5.89509143e-02   0.00000000e+00   4.34782609e-02]\n",
      " [  3.36431965e-01   9.74494706e-03   0.00000000e+00   0.00000000e+00]\n",
      " [  3.36431965e-01   3.48893167e-03   0.00000000e+00   0.00000000e+00]\n",
      " [  1.37080189e-01   3.24831569e-03   1.29076087e-02   0.00000000e+00]\n",
      " [  4.28399500e-01   3.24831569e-03   0.00000000e+00   8.69565217e-03]\n",
      " [  3.36431965e-01   4.33108758e-03   0.00000000e+00   0.00000000e+00]\n",
      " [  2.73958884e-01   1.80461983e-03   0.00000000e+00   8.69565217e-03]\n",
      " [  4.28399500e-01   6.01539942e-04   0.00000000e+00   0.00000000e+00]\n",
      " [  3.36431965e-01   3.24831569e-03   0.00000000e+00   0.00000000e+00]\n",
      " [  3.36431965e-01   4.45139557e-03   0.00000000e+00   0.00000000e+00]\n",
      " [  1.43111940e+00   1.28729548e-02   2.10597826e-02   8.69565217e-03]\n",
      " [  1.61370725e-01   7.21847931e-04   0.00000000e+00   0.00000000e+00]\n",
      " [  1.34867545e+00   6.97786333e-03   0.00000000e+00   0.00000000e+00]\n",
      " [  4.73833261e-01   5.53416747e-03   0.00000000e+00   0.00000000e+00]\n",
      " [  3.36431965e-01   4.57170356e-03   0.00000000e+00   0.00000000e+00]\n",
      " [  7.64831465e-01   1.34744947e-02   0.00000000e+00   0.00000000e+00]\n",
      " [  5.84886625e-01   6.13570741e-03   0.00000000e+00   8.69565217e-03]\n",
      " [  1.33831883e-01   5.53416747e-03   0.00000000e+00   0.00000000e+00]\n",
      " [  5.07326283e-01   3.12800770e-03   0.00000000e+00   0.00000000e+00]\n",
      " [  4.28399500e-01   2.16554379e-03   0.00000000e+00   0.00000000e+00]\n",
      " [  3.36431965e-01   4.69201155e-03   1.35869565e-03   0.00000000e+00]\n",
      " [  3.36431965e-01   9.50433109e-03   1.35869565e-03   1.73913043e-02]\n",
      " [  1.87334423e+00   3.53705486e-02   0.00000000e+00   8.69565217e-03]\n",
      " [  5.84886625e-01   4.81231954e-03   0.00000000e+00   0.00000000e+00]\n",
      " [  6.82387523e-01   6.13570741e-03   0.00000000e+00   0.00000000e+00]\n",
      " [  1.61370725e-01   2.52646776e-03   0.00000000e+00   0.00000000e+00]\n",
      " [  3.36431965e-01   3.00769971e-03   0.00000000e+00   0.00000000e+00]\n",
      " [  3.36431965e-01   3.00769971e-03   0.00000000e+00   0.00000000e+00]\n",
      " [  1.49143420e+00   6.49663138e-03   2.98913043e-02   2.60869565e-02]\n",
      " [  3.36431965e-01   1.38354187e-02   8.83152174e-03   0.00000000e+00]\n",
      " [  4.28399500e-01   8.42155919e-04   0.00000000e+00   0.00000000e+00]\n",
      " [  6.66287930e-01   7.57940327e-03   7.47282609e-02   0.00000000e+00]\n",
      " [  3.06726937e-01   3.60923965e-03   3.26086957e-02   8.69565217e-03]\n",
      " [  3.36431965e-01   5.89509143e-03   0.00000000e+00   8.69565217e-03]]\n"
     ]
    }
   ],
   "source": [
    "np.set_printoptions(threshold=np.inf)\n",
    "print new_features_per_mail"
   ]
  },
  {
   "cell_type": "code",
   "execution_count": 63,
   "metadata": {
    "collapsed": false,
    "scrolled": true
   },
   "outputs": [
    {
     "name": "stdout",
     "output_type": "stream",
     "text": [
      "[[  2.19627512e+00   3.89797883e-02   0.00000000e+00   3.47826087e-02]\n",
      " [  3.46307345e-01   8.42155919e-04   0.00000000e+00   0.00000000e+00]\n",
      " [  1.61370725e-01   1.08277190e-03   0.00000000e+00   0.00000000e+00]\n",
      " [  1.92929075e-01   4.21077960e-03   4.07608696e-02   1.73913043e-02]\n",
      " [  6.82387523e-01   9.98556304e-03   0.00000000e+00   0.00000000e+00]\n",
      " [  3.87985841e-01   8.42155919e-04   0.00000000e+00   8.69565217e-03]\n",
      " [  7.64831465e-01   1.52791145e-02   0.00000000e+00   0.00000000e+00]\n",
      " [  2.70379924e-01   8.18094321e-03   0.00000000e+00   1.73913043e-02]\n",
      " [  1.37401296e-01   1.08277190e-03   0.00000000e+00   0.00000000e+00]\n",
      " [  4.28399500e-01   6.01539942e-04   0.00000000e+00   0.00000000e+00]\n",
      " [  4.28399500e-01   1.44369586e-03   0.00000000e+00   1.73913043e-02]\n",
      " [  3.36431965e-01   4.09047161e-03   0.00000000e+00   0.00000000e+00]\n",
      " [  1.41990330e-01   2.64677575e-03   0.00000000e+00   8.69565217e-03]\n",
      " [  2.35511194e+00   6.62897016e-02   9.85054348e-02   5.21739130e-02]\n",
      " [  1.81337472e+00   1.31135707e-02   0.00000000e+00   1.73913043e-02]\n",
      " [  4.73833261e-01   7.57940327e-03   0.00000000e+00   1.73913043e-02]\n",
      " [  3.36431965e-01   1.92492782e-03   0.00000000e+00   0.00000000e+00]\n",
      " [  1.63541526e-01   7.21847931e-04   0.00000000e+00   0.00000000e+00]\n",
      " [  8.20140606e-01   2.06929740e-02   9.17119565e-02   8.69565217e-03]\n",
      " [  1.54723713e-01   1.88883542e-02   6.18206522e-02   3.47826087e-02]\n",
      " [  3.36431965e-01   4.21077960e-03   0.00000000e+00   0.00000000e+00]\n",
      " [  3.36431965e-01   5.77478345e-03   0.00000000e+00   0.00000000e+00]\n",
      " [  7.64831465e-01   1.17901829e-02   0.00000000e+00   8.69565217e-03]\n",
      " [  3.36431965e-01   3.24831569e-03   0.00000000e+00   0.00000000e+00]\n",
      " [  5.07326283e-01   3.00769971e-03   0.00000000e+00   0.00000000e+00]\n",
      " [  4.28399500e-01   1.80461983e-03   0.00000000e+00   0.00000000e+00]\n",
      " [  1.12131723e+00   2.64677575e-02   5.09510870e-02   8.69565217e-03]\n",
      " [  3.36431965e-01   3.24831569e-03   0.00000000e+00   0.00000000e+00]\n",
      " [  3.36431965e-01   3.24831569e-03   0.00000000e+00   0.00000000e+00]\n",
      " [  4.28399500e-01   3.48893167e-03   0.00000000e+00   1.73913043e-02]\n",
      " [  4.99973491e-01   6.25601540e-03   0.00000000e+00   1.73913043e-02]\n",
      " [  3.36431965e-01   3.36862368e-03   0.00000000e+00   0.00000000e+00]\n",
      " [  3.45955558e-01   4.57170356e-03   0.00000000e+00   0.00000000e+00]\n",
      " [  1.61370725e-01   1.20307988e-04   0.00000000e+00   0.00000000e+00]\n",
      " [  1.47733939e-01   2.40615977e-04   0.00000000e+00   0.00000000e+00]\n",
      " [  3.87985841e-01   1.32338787e-03   0.00000000e+00   0.00000000e+00]\n",
      " [  4.73512155e-01   6.49663138e-03   0.00000000e+00   0.00000000e+00]\n",
      " [  1.74266640e+00   2.57459095e-02   3.94021739e-02   8.69565217e-03]\n",
      " [  1.55390728e+00   1.46775746e-02   0.00000000e+00   5.21739130e-02]\n",
      " [  1.63201545e-01   7.82001925e-03   0.00000000e+00   0.00000000e+00]\n",
      " [  3.36431965e-01   4.09047161e-03   0.00000000e+00   0.00000000e+00]\n",
      " [  3.36431965e-01   7.69971126e-03   0.00000000e+00   0.00000000e+00]\n",
      " [  6.30320386e-01   1.93695861e-02   0.00000000e+00   5.21739130e-02]\n",
      " [  5.84886625e-01   5.41385948e-03   0.00000000e+00   8.69565217e-03]\n",
      " [  3.36431965e-01   5.53416747e-03   0.00000000e+00   0.00000000e+00]\n",
      " [  6.66287930e-01   1.68431184e-03   0.00000000e+00   0.00000000e+00]\n",
      " [  5.08111370e-01   1.29932628e-02   0.00000000e+00   0.00000000e+00]\n",
      " [  1.41990330e-01   6.97786333e-03   6.38586957e-02   2.60869565e-02]\n",
      " [  1.40127001e-01   3.97016362e-03   0.00000000e+00   1.73913043e-02]\n",
      " [  3.36431965e-01   3.24831569e-03   0.00000000e+00   0.00000000e+00]\n",
      " [  1.28655416e+00   5.41385948e-03   7.47282609e-03   8.69565217e-03]\n",
      " [  1.47733939e-01   1.20307988e-04   0.00000000e+00   0.00000000e+00]\n",
      " [  3.36431965e-01   1.56400385e-03   0.00000000e+00   0.00000000e+00]\n",
      " [  3.36431965e-01   6.97786333e-03   0.00000000e+00   0.00000000e+00]\n",
      " [  3.36431965e-01   1.80461983e-03   0.00000000e+00   0.00000000e+00]\n",
      " [  3.36431965e-01   3.36862368e-03   0.00000000e+00   0.00000000e+00]\n",
      " [  1.56487125e-01   5.53416747e-03   0.00000000e+00   0.00000000e+00]\n",
      " [  5.65800795e-01   2.39412897e-02   0.00000000e+00   5.21739130e-02]\n",
      " [  1.47733939e-01   4.81231954e-04   0.00000000e+00   0.00000000e+00]\n",
      " [  4.76558966e-01   4.09047161e-03   0.00000000e+00   0.00000000e+00]\n",
      " [  4.28399500e-01   1.32338787e-03   0.00000000e+00   0.00000000e+00]\n",
      " [  3.36431965e-01   3.84985563e-03   0.00000000e+00   0.00000000e+00]\n",
      " [  6.82739310e-01   1.19104909e-02   5.43478261e-02   1.73913043e-02]\n",
      " [  1.71679405e-01   2.16554379e-03   0.00000000e+00   0.00000000e+00]\n",
      " [  4.28399500e-01   4.93262753e-03   0.00000000e+00   8.69565217e-03]\n",
      " [  4.28399500e-01   2.88739172e-03   0.00000000e+00   0.00000000e+00]\n",
      " [  4.97802690e-01   5.17324350e-03   0.00000000e+00   0.00000000e+00]\n",
      " [  3.36431965e-01   3.84985563e-03   0.00000000e+00   0.00000000e+00]\n",
      " [  1.61370725e-01   1.92492782e-03   0.00000000e+00   0.00000000e+00]\n",
      " [  3.36431965e-01   4.69201155e-03   0.00000000e+00   0.00000000e+00]\n",
      " [  4.97802690e-01   3.48893167e-03   0.00000000e+00   0.00000000e+00]\n",
      " [  3.36431965e-01   3.36862368e-03   0.00000000e+00   0.00000000e+00]\n",
      " [  3.36431965e-01   3.60923965e-03   0.00000000e+00   0.00000000e+00]\n",
      " [  3.36431965e-01   3.84985563e-03   0.00000000e+00   0.00000000e+00]\n",
      " [  4.28399500e-01   1.44369586e-03   0.00000000e+00   8.69565217e-03]\n",
      " [  3.36431965e-01   3.24831569e-03   0.00000000e+00   0.00000000e+00]\n",
      " [  4.73833261e-01   3.84985563e-03   0.00000000e+00   0.00000000e+00]\n",
      " [  2.79114234e+00   5.89509143e-02   0.00000000e+00   4.34782609e-02]\n",
      " [  3.36431965e-01   9.74494706e-03   0.00000000e+00   0.00000000e+00]\n",
      " [  3.36431965e-01   3.48893167e-03   0.00000000e+00   0.00000000e+00]\n",
      " [  1.37080189e-01   3.24831569e-03   1.29076087e-02   0.00000000e+00]\n",
      " [  4.28399500e-01   3.24831569e-03   0.00000000e+00   8.69565217e-03]\n",
      " [  3.36431965e-01   4.33108758e-03   0.00000000e+00   0.00000000e+00]\n",
      " [  2.73958884e-01   1.80461983e-03   0.00000000e+00   8.69565217e-03]\n",
      " [  4.28399500e-01   6.01539942e-04   0.00000000e+00   0.00000000e+00]\n",
      " [  3.36431965e-01   3.24831569e-03   0.00000000e+00   0.00000000e+00]\n",
      " [  3.36431965e-01   4.45139557e-03   0.00000000e+00   0.00000000e+00]\n",
      " [  1.43111940e+00   1.28729548e-02   2.10597826e-02   8.69565217e-03]\n",
      " [  1.61370725e-01   7.21847931e-04   0.00000000e+00   0.00000000e+00]\n",
      " [  1.34867545e+00   6.97786333e-03   0.00000000e+00   0.00000000e+00]\n",
      " [  4.73833261e-01   5.53416747e-03   0.00000000e+00   0.00000000e+00]\n",
      " [  3.36431965e-01   4.57170356e-03   0.00000000e+00   0.00000000e+00]\n",
      " [  7.64831465e-01   1.34744947e-02   0.00000000e+00   0.00000000e+00]\n",
      " [  5.84886625e-01   6.13570741e-03   0.00000000e+00   8.69565217e-03]\n",
      " [  1.33831883e-01   5.53416747e-03   0.00000000e+00   0.00000000e+00]\n",
      " [  5.07326283e-01   3.12800770e-03   0.00000000e+00   0.00000000e+00]\n",
      " [  4.28399500e-01   2.16554379e-03   0.00000000e+00   0.00000000e+00]\n",
      " [  3.36431965e-01   4.69201155e-03   1.35869565e-03   0.00000000e+00]\n",
      " [  3.36431965e-01   9.50433109e-03   1.35869565e-03   1.73913043e-02]\n",
      " [  1.87334423e+00   3.53705486e-02   0.00000000e+00   8.69565217e-03]\n",
      " [  5.84886625e-01   4.81231954e-03   0.00000000e+00   0.00000000e+00]\n",
      " [  6.82387523e-01   6.13570741e-03   0.00000000e+00   0.00000000e+00]\n",
      " [  1.61370725e-01   2.52646776e-03   0.00000000e+00   0.00000000e+00]\n",
      " [  3.36431965e-01   3.00769971e-03   0.00000000e+00   0.00000000e+00]\n",
      " [  3.36431965e-01   3.00769971e-03   0.00000000e+00   0.00000000e+00]\n",
      " [  1.49143420e+00   6.49663138e-03   2.98913043e-02   2.60869565e-02]\n",
      " [  3.36431965e-01   1.38354187e-02   8.83152174e-03   0.00000000e+00]\n",
      " [  4.28399500e-01   8.42155919e-04   0.00000000e+00   0.00000000e+00]\n",
      " [  6.66287930e-01   7.57940327e-03   7.47282609e-02   0.00000000e+00]\n",
      " [  3.06726937e-01   3.60923965e-03   3.26086957e-02   8.69565217e-03]\n",
      " [  3.36431965e-01   5.89509143e-03   0.00000000e+00   8.69565217e-03]]\n"
     ]
    }
   ],
   "source": [
    "np.set_printoptions(threshold=np.inf)\n",
    "print new_features_per_mail"
   ]
  },
  {
   "cell_type": "code",
   "execution_count": null,
   "metadata": {
    "collapsed": true
   },
   "outputs": [],
   "source": [
    "# Once the features are computed, we can predict the 10 recipients\n",
    "order = ABC.predict_proba(new_features_per_mail)[:,1].argsort()[::-1]\n",
    "recipients = np.array(dic_of_recipients.keys())\n",
    "suggested_10_recipients = recipients[order][:10]\n",
    "\n",
    "if submission:\n",
    "    string_recipients = ''\n",
    "    for k in suggested_10_recipients:\n",
    "        string_recipients+=k + ' '\n",
    "\n",
    "    results.loc[query_mid, 'recipients'] = string_recipients\n",
    "else:\n",
    "\n",
    "    all_suggestions.append(suggested_10_recipients)\n",
    "    ground_truth.append(ground_truth)\n",
    "    all_mean_ap.append(mean_ap(suggested_10_recipients, ground_truth))"
   ]
  },
  {
   "cell_type": "code",
   "execution_count": 109,
   "metadata": {
    "collapsed": false
   },
   "outputs": [],
   "source": [
    "results.to_csv('../submission/learning_first_try.csv')"
   ]
  },
  {
   "cell_type": "code",
   "execution_count": 103,
   "metadata": {
    "collapsed": false,
    "scrolled": true
   },
   "outputs": [
    {
     "data": {
      "text/plain": [
       "0.3652579746157722"
      ]
     },
     "execution_count": 103,
     "metadata": {},
     "output_type": "execute_result"
    }
   ],
   "source": [
    "np.mean(all_mean_ap)"
   ]
  },
  {
   "cell_type": "markdown",
   "metadata": {},
   "source": [
    "## Get NSF and NRF\n",
    "- NSF: number of messages sent by sender to this recipient, divided by all messages sent by sender \n",
    "- NRF: number of messages received from the recipient to the sender, divided by all messages received by sender"
   ]
  },
  {
   "cell_type": "code",
   "execution_count": 7,
   "metadata": {
    "collapsed": false
   },
   "outputs": [],
   "source": [
    "sent_to = {}\n",
    "for row in training.iterrows():\n",
    "    sender = row[1]['sender']\n",
    "    sent_to[sender] = {}\n",
    "    for mid in row[1]['mids'].split():\n",
    "        recipients = training_info[training_info.mid == int(mid)]['recipients'].values[0].split()\n",
    "        for recipient in recipients:\n",
    "            if '@' in recipient:\n",
    "                if recipient in sent_to[sender].keys():\n",
    "                    sent_to[sender][recipient] += 1\n",
    "                else:\n",
    "                    sent_to[sender][recipient] = 1"
   ]
  },
  {
   "cell_type": "code",
   "execution_count": 8,
   "metadata": {
    "collapsed": false
   },
   "outputs": [],
   "source": [
    "received_from = {}\n",
    "for sender in sent_to.keys():\n",
    "    for recipient in sent_to[sender].keys():\n",
    "        if recipient not in received_from.keys():\n",
    "            received_from[recipient] = {}\n",
    "        if sender not in received_from[recipient].keys():\n",
    "            received_from[recipient][sender] = sent_to[sender][recipient]\n",
    "        else:\n",
    "            received_from[recipient][sender] += sent_to[sender][recipient]"
   ]
  },
  {
   "cell_type": "code",
   "execution_count": 9,
   "metadata": {
    "collapsed": false
   },
   "outputs": [],
   "source": [
    "# normalization:\n",
    "for sender in sent_to.keys():\n",
    "    norm = sum(sent_to[sender].values())\n",
    "    for recipient in sent_to[sender].keys():\n",
    "        sent_to[sender][recipient] = float(sent_to[sender][recipient])/norm"
   ]
  },
  {
   "cell_type": "code",
   "execution_count": 10,
   "metadata": {
    "collapsed": false
   },
   "outputs": [],
   "source": [
    "# normalization:\n",
    "for recipient in received_from.keys():\n",
    "    norm = sum(received_from[recipient].values())\n",
    "    for sender in received_from[recipient].keys():\n",
    "        received_from[recipient][sender] = float(received_from[recipient][sender])/norm"
   ]
  },
  {
   "cell_type": "code",
   "execution_count": 13,
   "metadata": {
    "collapsed": true
   },
   "outputs": [],
   "source": [
    "with io.open('../data/sent_to.json', 'w', encoding='utf-8') as f:\n",
    "    f.write(unicode(json.dumps(sent_to, ensure_ascii=False)))\n",
    "with io.open('../data/received_from.json', 'w', encoding='utf-8') as f:\n",
    "    f.write(unicode(json.dumps(received_from, ensure_ascii=False)))"
   ]
  },
  {
   "cell_type": "code",
   "execution_count": 15,
   "metadata": {
    "collapsed": true
   },
   "outputs": [],
   "source": [
    "with io.open('../data/sent_to.json') as json_data:\n",
    "    sent_to = json.load(json_data)"
   ]
  },
  {
   "cell_type": "code",
   "execution_count": null,
   "metadata": {
    "collapsed": true
   },
   "outputs": [],
   "source": []
  }
 ],
 "metadata": {
  "anaconda-cloud": {},
  "kernelspec": {
   "display_name": "Python [default]",
   "language": "python",
   "name": "python2"
  },
  "language_info": {
   "codemirror_mode": {
    "name": "ipython",
    "version": 2
   },
   "file_extension": ".py",
   "mimetype": "text/x-python",
   "name": "python",
   "nbconvert_exporter": "python",
   "pygments_lexer": "ipython2",
   "version": "2.7.12"
  }
 },
 "nbformat": 4,
 "nbformat_minor": 0
}

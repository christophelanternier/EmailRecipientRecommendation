{
 "cells": [
  {
   "cell_type": "code",
   "execution_count": 69,
   "metadata": {
    "collapsed": true
   },
   "outputs": [],
   "source": [
    "%matplotlib inline"
   ]
  },
  {
   "cell_type": "code",
   "execution_count": 70,
   "metadata": {
    "collapsed": true
   },
   "outputs": [],
   "source": [
    "import matplotlib\n",
    "import matplotlib.pyplot as plt"
   ]
  },
  {
   "cell_type": "code",
   "execution_count": 71,
   "metadata": {
    "collapsed": true
   },
   "outputs": [],
   "source": [
    "import random\n",
    "from datetime import datetime, timedelta\n",
    "import io\n",
    "import numpy as np\n",
    "import heapq\n",
    "import json\n",
    "import operator\n",
    "import pandas as pd\n",
    "from collections import Counter\n",
    "from sklearn.feature_extraction.text import TfidfVectorizer\n",
    "from sklearn.metrics.pairwise import cosine_similarity\n",
    "from stop_words import get_stop_words\n",
    "import json\n",
    "\n",
    "import numpy.random as nprnd\n",
    "\n",
    "stop_words = get_stop_words('english')\n"
   ]
  },
  {
   "cell_type": "code",
   "execution_count": 72,
   "metadata": {
    "collapsed": true
   },
   "outputs": [],
   "source": [
    "path_to_data = '../data/'\n",
    "\n",
    "##########################\n",
    "# load files #                           \n",
    "##########################\n",
    "\n",
    "training = pd.read_csv(path_to_data + 'training_set.csv', sep=',', header=0)\n",
    "#training_info = pd.read_csv(path_to_data + 'training_info.csv', sep=',', header=0)\n",
    "training_info = pd.read_csv(path_to_data+\"training_info2.csv\",sep=',', header=0, index_col=0)\n",
    "test = pd.read_csv(path_to_data + 'test_set.csv', sep=',', header=0)\n",
    "#test_info = pd.read_csv(path_to_data + 'test_info.csv', sep=',', header=0)\n",
    "test_info = pd.read_csv(path_to_data+\"test_info2.csv\",sep=',', header=0, index_col=0)\n",
    "\n",
    "global sent_to\n",
    "with io.open('../data/sent_to.json') as json_data:\n",
    "    sent_to = json.load(json_data)\n",
    "\n",
    "global received_from\n",
    "with io.open('../data/received_from.json') as json_data:\n",
    "    received_from = json.load(json_data)"
   ]
  },
  {
   "cell_type": "code",
   "execution_count": 73,
   "metadata": {
    "collapsed": false
   },
   "outputs": [
    {
     "name": "stderr",
     "output_type": "stream",
     "text": [
      "/Users/christophelanternier/anaconda/lib/python2.7/site-packages/ipykernel/__main__.py:6: FutureWarning: sort(columns=....) is deprecated, use sort_values(by=.....)\n",
      "/Users/christophelanternier/anaconda/lib/python2.7/site-packages/ipykernel/__main__.py:13: FutureWarning: sort(columns=....) is deprecated, use sort_values(by=.....)\n"
     ]
    }
   ],
   "source": [
    "# Correct dates and put datetime format\n",
    "# We do that because we noticed test_set is only composed of email posterior to the ones of train_set. \n",
    "# Datetime format allows to simulate posteriority in our train/test split\n",
    "from datetime import datetime\n",
    "\n",
    "for row in training_info.sort(['date']).iterrows():\n",
    "    date = row[1]['date']\n",
    "    if date[:3] == '000':\n",
    "        date = '2' + date[1:]\n",
    "        \n",
    "    training_info.loc[row[0], 'date'] = datetime.strptime(date, '%Y-%m-%d %H:%M:%S')\n",
    "\n",
    "for row in test_info.sort(['date']).iterrows():\n",
    "    date = row[1]['date']\n",
    "        \n",
    "    test_info.loc[row[0], 'date'] = datetime.strptime(date, '%Y-%m-%d %H:%M:%S')"
   ]
  },
  {
   "cell_type": "markdown",
   "metadata": {},
   "source": [
    "## Functions"
   ]
  },
  {
   "cell_type": "code",
   "execution_count": 4,
   "metadata": {
    "collapsed": true
   },
   "outputs": [],
   "source": [
    "def most_similar_sklearn(array_embedding_sparse, mail_tfidf, n):\n",
    "    \n",
    "    similarities = cosine_similarity(array_embedding_sparse, mail_tfidf)\n",
    "    if int(round(sorted(similarities[:,0], reverse=True)[0])) == 1:\n",
    "        closest_ids = similarities[:,0].argsort()[::-1][1:]\n",
    "    else:\n",
    "        closest_ids = similarities[:,0].argsort()[::-1]\n",
    "    \n",
    "    return closest_ids[:n], similarities\n",
    "\n",
    "def get_sender(query_mid, training):\n",
    "    for row in training.iterrows():\n",
    "        mids = row[1]['mids'].split()\n",
    "        for mid in mids:\n",
    "            if int(mid) == query_mid:\n",
    "                sender = row[1]['sender']\n",
    "                break\n",
    "    return sender\n",
    "\n",
    "\n",
    "def get_10_recipients(closest_ids_per_sender, training_info, similarities):\n",
    "    dic_of_recipients = {}\n",
    "    #weight = len(closest_ids_per_sender)+1\n",
    "    for idx in closest_ids_per_sender:\n",
    "        recipients = training_info.loc[idx,'recipients'].split()\n",
    "        for recipient in recipients:\n",
    "            if '@' in recipient:\n",
    "                dic_of_recipients[recipient] = dic_of_recipients.get(recipient, 0) + similarities[idx][0]\n",
    "    \n",
    "    norm = sum(dic_of_recipients.values())\n",
    "    for k,v in dic_of_recipients.iteritems():\n",
    "        dic_of_recipients[k] = float(v)/norm\n",
    "        \n",
    "    return dic_of_recipients\n",
    "\n",
    "def get_recency_features(X_train_info_sender, mail_date, n_recency_features):    \n",
    "    dic_recency = {}\n",
    "    df_last_sent_emails = X_train_info_sender[X_train_info_sender.date<= mail_date].sort_values(by = 'date', ascending = False)[:n_recency_features]\n",
    "    for row in df_last_sent_emails.iterrows():\n",
    "        recipients = row[1]['recipients'].split()\n",
    "        for recipient in recipients:\n",
    "            if '@' in recipient:\n",
    "                dic_recency[recipient] = dic_recency.get(recipient, 0) + 1\n",
    "    norm = sum(dic_recency.values())\n",
    "    for k,v in dic_recency.iteritems():\n",
    "        dic_recency[k] = float(v)/norm\n",
    "    \n",
    "    return dic_recency\n",
    "\n",
    "def mean_ap(suggested_10_recipients, ground_truth):\n",
    "    MAP = 0\n",
    "    correct_guess = 0\n",
    "    for i, suggestion in enumerate(suggested_10_recipients):\n",
    "        if suggestion in ground_truth:\n",
    "            correct_guess +=1\n",
    "            MAP += float(correct_guess)/(i+1)\n",
    "    MAP = float(MAP)/min(10, len(ground_truth))\n",
    "    return MAP\n",
    "\n",
    "def header_address_ressemblance(text, address):\n",
    "    head = text[:10].lower()\n",
    "    name = address[:address.index('@')].split('.')\n",
    "    for n in name:\n",
    "        if len(n)>2:\n",
    "            if n in head:\n",
    "                return True\n",
    "    return False\n",
    "\n",
    "def generate_features(mail_tfidf, mail_date, ground_truth, sender, n, n_recency_features, mail_header):\n",
    "    \n",
    "    X_train_info_sender = X_train_info[(X_train_info.sender == sender) & (X_train_info.date<mail_date) & (X_train_info.date>(mail_date-timedelta(days = 180)))]\n",
    "    print X_train_info_sender.shape\n",
    "    index_sender = X_train_info_sender.index.values\n",
    "    X_train_info_sender.index = range(X_train_info_sender.shape[0])\n",
    "    array_embedding_sparse_sender = array_embedding_sparse[index_sender]\n",
    "\n",
    "    closest_ids_per_sender, similarities = most_similar_sklearn(array_embedding_sparse_sender, mail_tfidf, n)\n",
    "\n",
    "    dic_recency = get_recency_features(X_train_info_sender, mail_date, n_recency_features)\n",
    "\n",
    "    dic_of_recipients = get_10_recipients(closest_ids_per_sender, X_train_info_sender, similarities)\n",
    "\n",
    "    new_features_per_mail = np.zeros((len(dic_of_recipients), 5))\n",
    "    labels_per_mail = np.zeros((len(dic_of_recipients), 1))\n",
    "    index = 0\n",
    "    for k,v in dic_of_recipients.iteritems():\n",
    "        KNNScore = v\n",
    "        NSF = sent_to[sender][k]\n",
    "        NRF = 0\n",
    "        if sender in received_from.keys():\n",
    "            NRF = received_from[sender].get(k, 0)\n",
    "\n",
    "        recency = 0\n",
    "        if k in dic_recency.keys():\n",
    "            recency = dic_recency[k]\n",
    "        \n",
    "        if ground_truth != None:\n",
    "            if k in ground_truth:\n",
    "                labels_per_mail[index, :] = 1\n",
    "                \n",
    "        head = 1.0 * header_address_ressemblance(mail_header, k)\n",
    "\n",
    "        new_features_per_mail[index, :] = [KNNScore, NSF, NRF, recency, head]\n",
    "        index +=1\n",
    "\n",
    "    return new_features_per_mail, labels_per_mail, dic_of_recipients"
   ]
  },
  {
   "cell_type": "markdown",
   "metadata": {},
   "source": []
  },
  {
   "cell_type": "code",
   "execution_count": 74,
   "metadata": {
    "collapsed": true
   },
   "outputs": [],
   "source": [
    "#Declare Global variables:\n",
    "global X_train_info\n",
    "global X_test_info\n",
    "global array_embedding_sparse"
   ]
  },
  {
   "cell_type": "code",
   "execution_count": 107,
   "metadata": {
    "collapsed": true
   },
   "outputs": [],
   "source": [
    "submission = False\n",
    "training_info = training_info.sort_values(by='date')\n",
    "#test_info = test_info.sort_values(by='date')\n",
    "\n",
    "if submission:\n",
    "    # submission procedure\n",
    "    X_train_info = training_info\n",
    "    X_test_info = test_info\n",
    "    \n",
    "else:\n",
    "    # test procedure\n",
    "    split_date=datetime(2001, 6, 25)\n",
    "    X_train_info = training_info[training_info.date <= split_date]\n",
    "    \n",
    "    #Randomize selection of test set:\n",
    "    X_test_info = training_info[training_info.date > split_date]\n",
    "    mask = nprnd.choice(range(X_test_info.shape[0]), size=1000, replace=False)\n",
    "    X_test_info.index = range(X_test_info.shape[0])\n",
    "    X_test_info = X_test_info[X_test_info.index.isin(mask)]\n",
    "    "
   ]
  },
  {
   "cell_type": "code",
   "execution_count": 112,
   "metadata": {
    "collapsed": false
   },
   "outputs": [
    {
     "data": {
      "text/plain": [
       "(15753, 5)"
      ]
     },
     "execution_count": 112,
     "metadata": {},
     "output_type": "execute_result"
    }
   ],
   "source": [
    "training_info[training_info.date > split_date].shape"
   ]
  },
  {
   "cell_type": "code",
   "execution_count": 108,
   "metadata": {
    "collapsed": true
   },
   "outputs": [],
   "source": [
    "if submission:\n",
    "    tfidf = TfidfVectorizer(stop_words = stop_words)\n",
    "    array_embedding_sparse = tfidf.fit_transform(np.concatenate((X_train_info['body'].values,X_test_info['body'].values)))\n",
    "    array_embedding_sparse = array_embedding_sparse[:X_train_info.shape[0]]\n",
    "else:\n",
    "    #With porter stemming:\n",
    "    #tfidf = TfidfVectorizer(tokenizer= tokenize, stop_words = stop_words)\n",
    "    #Without stemming:\n",
    "    tfidf = TfidfVectorizer(stop_words = stop_words)\n",
    "    array_embedding_sparse = tfidf.fit_transform(X_train_info['body'].values)"
   ]
  },
  {
   "cell_type": "code",
   "execution_count": 109,
   "metadata": {
    "collapsed": false,
    "scrolled": true
   },
   "outputs": [
    {
     "name": "stdout",
     "output_type": "stream",
     "text": [
      "100\n",
      "0:00:00.732502\n",
      "200\n",
      "0:00:00.774643\n",
      "300\n",
      "0:00:00.707163\n",
      "400\n",
      "0:00:00.675501\n",
      "500\n",
      "0:00:00.719034\n"
     ]
    }
   ],
   "source": [
    "test_number_of_past_mails = {}\n",
    "count = 0\n",
    "t_100 = datetime.now()\n",
    "for query_id in X_test_info.index.values:\n",
    "    count+=1\n",
    "    if count%100==0:\n",
    "        print count\n",
    "        print datetime.now()-t_100\n",
    "        t_100 = datetime.now()\n",
    "\n",
    "    # Get info on considered mail\n",
    "    mail = X_test_info['body'][query_id]\n",
    "    mail_tfidf = tfidf.transform([mail])\n",
    "    mail_date = X_test_info['date'][query_id]\n",
    "    #ground_truth = X_test_info['recipients'][query_id].split()\n",
    "    sender = X_test_info['sender'][query_id]\n",
    "    \n",
    "    X_train_info_sender = X_train_info[(X_train_info.sender == sender) & (X_train_info.date<mail_date)]\n",
    "    if sender in test_number_of_past_mails.keys():\n",
    "        test_number_of_past_mails[sender][mail_date] = X_train_info_sender.shape[0]\n",
    "    else:\n",
    "        test_number_of_past_mails[sender] = {}\n",
    "        test_number_of_past_mails[sender][mail_date] = X_train_info_sender.shape[0]"
   ]
  },
  {
   "cell_type": "code",
   "execution_count": 110,
   "metadata": {
    "collapsed": false
   },
   "outputs": [
    {
     "data": {
      "image/png": "[encoded data removed]",
      "text/plain": [
       "<matplotlib.figure.Figure at 0x112e69990>"
      ]
     },
     "metadata": {},
     "output_type": "display_data"
    }
   ],
   "source": [
    "\n",
    "plt.figure(figsize=(6, 6))\n",
    "for sender in test_number_of_past_mails.keys():\n",
    "    \n",
    "    datetimes = np.array(test_number_of_past_mails[sender].keys())\n",
    "    values = np.array(test_number_of_past_mails[sender].values())[datetimes.argsort()]\n",
    "    datetimes = sorted(datetimes)\n",
    "    dates = matplotlib.dates.date2num(datetimes)\n",
    "    plt.plot_date(dates, values, '-')\n",
    "\n",
    "plt.show()"
   ]
  },
  {
   "cell_type": "code",
   "execution_count": 101,
   "metadata": {
    "collapsed": false
   },
   "outputs": [
    {
     "data": {
      "image/png": "[encoded data removed]",
      "text/plain": [
       "<matplotlib.figure.Figure at 0x1134bf950>"
      ]
     },
     "metadata": {},
     "output_type": "display_data"
    }
   ],
   "source": [
    "\n",
    "plt.figure(figsize=(6, 6))\n",
    "for sender in test_number_of_past_mails.keys():\n",
    "    \n",
    "    datetimes = np.array(test_number_of_past_mails[sender].keys())\n",
    "    values = np.array(test_number_of_past_mails[sender].values())[datetimes.argsort()]\n",
    "    datetimes = sorted(datetimes)\n",
    "    dates = matplotlib.dates.date2num(datetimes)\n",
    "    plt.plot_date(dates, values, '-')\n",
    "\n",
    "plt.show()"
   ]
  },
  {
   "cell_type": "code",
   "execution_count": 135,
   "metadata": {
    "collapsed": false
   },
   "outputs": [],
   "source": [
    "new_features_all = np.load('../data/new_features_all_normalized_header_recency2.npy')\n",
    "labels_all = np.load('../data/labels_all_normalized_header_recency2.npy')"
   ]
  },
  {
   "cell_type": "code",
   "execution_count": 138,
   "metadata": {
    "collapsed": true
   },
   "outputs": [],
   "source": [
    "new_features_all = new_features_all[1000000:1002000, :]\n",
    "labels_all = labels_all[1000000:1002000, :]"
   ]
  },
  {
   "cell_type": "code",
   "execution_count": 153,
   "metadata": {
    "collapsed": false
   },
   "outputs": [
    {
     "name": "stdout",
     "output_type": "stream",
     "text": [
      "(119,)\n"
     ]
    }
   ],
   "source": [
    "KNN_true = new_features_all[:, [0]][labels_all == 1]\n",
    "recency_true = new_features_all[:, [3]][labels_all == 1]\n",
    "print recency_true.shape"
   ]
  },
  {
   "cell_type": "code",
   "execution_count": 154,
   "metadata": {
    "collapsed": false
   },
   "outputs": [],
   "source": [
    "KNN_false = new_features_all[:, [0]][labels_all == 0]\n",
    "recency_false = new_features_all[:, [3]][labels_all == 0]"
   ]
  },
  {
   "cell_type": "code",
   "execution_count": 155,
   "metadata": {
    "collapsed": false
   },
   "outputs": [
    {
     "data": {
      "image/png": "[encoded data removed]",
      "text/plain": [
       "<matplotlib.figure.Figure at 0x11105e8d0>"
      ]
     },
     "metadata": {},
     "output_type": "display_data"
    }
   ],
   "source": [
    "plt.figure(figsize=(10,10))\n",
    "plt.plot(recency_true, KNN_true, '+')\n",
    "plt.plot(recency_false, KNN_false, '+')\n",
    "plt.ylim([0,0.01])\n",
    "plt.xlim([0,0.01])\n",
    "plt.show()"
   ]
  },
  {
   "cell_type": "code",
   "execution_count": null,
   "metadata": {
    "collapsed": true
   },
   "outputs": [],
   "source": []
  }
 ],
 "metadata": {
  "kernelspec": {
   "display_name": "Python 2",
   "language": "python",
   "name": "python2"
  },
  "language_info": {
   "codemirror_mode": {
    "name": "ipython",
    "version": 2
   },
   "file_extension": ".py",
   "mimetype": "text/x-python",
   "name": "python",
   "nbconvert_exporter": "python",
   "pygments_lexer": "ipython2",
   "version": "2.7.12"
  }
 },
 "nbformat": 4,
 "nbformat_minor": 0
}

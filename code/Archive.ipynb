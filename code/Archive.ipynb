{
 "cells": [
  {
   "cell_type": "markdown",
   "metadata": {},
   "source": [
    "## code to create the person_id list"
   ]
  },
  {
   "cell_type": "code",
   "execution_count": null,
   "metadata": {
    "collapsed": true
   },
   "outputs": [],
   "source": [
    "\n",
    "person_id = {}\n",
    "idx=0\n",
    "for recipient_list in training_info['recipients'].values:\n",
    "    for recipient in recipient_list.split():\n",
    "        if '@' in recipient:\n",
    "            if recipient in person_id.keys():\n",
    "                pass\n",
    "            else:\n",
    "                person_id[recipient] = idx\n",
    "                idx+=1"
   ]
  },
  {
   "cell_type": "code",
   "execution_count": null,
   "metadata": {
    "collapsed": true
   },
   "outputs": [],
   "source": [
    "for sender in training['sender']:\n",
    "    if sender not in person_id.keys():\n",
    "        print sender\n",
    "        person_id[sender] = idx\n",
    "        idx+=1"
   ]
  },
  {
   "cell_type": "code",
   "execution_count": null,
   "metadata": {
    "collapsed": true
   },
   "outputs": [],
   "source": [
    "with io.open('../data/person_id.txt', 'w', encoding='utf-8') as f:\n",
    "    f.write(unicode(json.dumps(person_id, ensure_ascii=False)))"
   ]
  },
  {
   "cell_type": "code",
   "execution_count": null,
   "metadata": {
    "collapsed": true
   },
   "outputs": [],
   "source": [
    "def cosine_similarity(a, b):\n",
    "    assert len(a) == len(b), 'vectors need to have the same size'\n",
    "    cos_sim = a.dot(b)/(np.linalg.norm(a)*np.linalg.norm(b))\n",
    "    return cos_sim"
   ]
  },
  {
   "cell_type": "code",
   "execution_count": null,
   "metadata": {
    "collapsed": true
   },
   "outputs": [],
   "source": [
    "def most_n_similar(idx, array_embedding, n):\n",
    "    query_embed = array_embedding[idx]\n",
    "    list_scores = {}\n",
    "    for i in range(idx) + range(idx + 1, len(array_embedding)):\n",
    "        list_scores[i] = cosine_similarity(query_embed, array_embedding[i])\n",
    "\n",
    "    closest_n_idx = heapq.nlargest(n, list_scores, key=list_scores.get)\n",
    "    \n",
    "    return closest_n_idx, list_scores"
   ]
  }
 ],
 "metadata": {
  "kernelspec": {
   "display_name": "Python 2",
   "language": "python",
   "name": "python2"
  },
  "language_info": {
   "codemirror_mode": {
    "name": "ipython",
    "version": 2
   },
   "file_extension": ".py",
   "mimetype": "text/x-python",
   "name": "python",
   "nbconvert_exporter": "python",
   "pygments_lexer": "ipython2",
   "version": "2.7.12"
  }
 },
 "nbformat": 4,
 "nbformat_minor": 0
}
